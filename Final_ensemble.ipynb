{
  "metadata": {
    "kernelspec": {
      "language": "python",
      "display_name": "Python 3",
      "name": "python3"
    },
    "language_info": {
      "name": "python",
      "version": "3.10.14",
      "mimetype": "text/x-python",
      "codemirror_mode": {
        "name": "ipython",
        "version": 3
      },
      "pygments_lexer": "ipython3",
      "nbconvert_exporter": "python",
      "file_extension": ".py"
    },
    "kaggle": {
      "accelerator": "none",
      "dataSources": [
        {
          "sourceId": 88379,
          "databundleVersionId": 10117424,
          "sourceType": "competition"
        }
      ],
      "dockerImageVersionId": 30786,
      "isInternetEnabled": false,
      "language": "python",
      "sourceType": "notebook",
      "isGpuEnabled": false
    },
    "colab": {
      "provenance": [],
      "include_colab_link": true
    },
    "widgets": {
      "application/vnd.jupyter.widget-state+json": {
        "ed4e9b65aea24bf9b46e1048ee66f713": {
          "model_module": "@jupyter-widgets/controls",
          "model_name": "VBoxModel",
          "model_module_version": "1.5.0",
          "state": {
            "_dom_classes": [],
            "_model_module": "@jupyter-widgets/controls",
            "_model_module_version": "1.5.0",
            "_model_name": "VBoxModel",
            "_view_count": null,
            "_view_module": "@jupyter-widgets/controls",
            "_view_module_version": "1.5.0",
            "_view_name": "VBoxView",
            "box_style": "",
            "children": [
              "IPY_MODEL_f3d8cc1479da4a4e8243b1d1f20a0ea8",
              "IPY_MODEL_1f640dd0038340fca577e6bb4b6ff2f1",
              "IPY_MODEL_51277c59e9844243837195afe9414761"
            ],
            "layout": "IPY_MODEL_556194803abf4d84808f8cd0ed557247"
          }
        },
        "51a280b9706e466bb35905e24f6b1384": {
          "model_module": "@jupyter-widgets/controls",
          "model_name": "HTMLModel",
          "model_module_version": "1.5.0",
          "state": {
            "_dom_classes": [],
            "_model_module": "@jupyter-widgets/controls",
            "_model_module_version": "1.5.0",
            "_model_name": "HTMLModel",
            "_view_count": null,
            "_view_module": "@jupyter-widgets/controls",
            "_view_module_version": "1.5.0",
            "_view_name": "HTMLView",
            "description": "",
            "description_tooltip": null,
            "layout": "IPY_MODEL_c0c9ac41c70e4ae996e60ffadb1054bb",
            "placeholder": "​",
            "style": "IPY_MODEL_f3b9b7b6460342b696d0c8ec81487f3c",
            "value": "<center> <img\nsrc=https://www.kaggle.com/static/images/site-logo.png\nalt='Kaggle'> <br> Create an API token from <a\nhref=\"https://www.kaggle.com/settings/account\" target=\"_blank\">your Kaggle\nsettings page</a> and paste it below along with your Kaggle username. <br> </center>"
          }
        },
        "e63d90c22b7e47feace83f0b9cc96473": {
          "model_module": "@jupyter-widgets/controls",
          "model_name": "TextModel",
          "model_module_version": "1.5.0",
          "state": {
            "_dom_classes": [],
            "_model_module": "@jupyter-widgets/controls",
            "_model_module_version": "1.5.0",
            "_model_name": "TextModel",
            "_view_count": null,
            "_view_module": "@jupyter-widgets/controls",
            "_view_module_version": "1.5.0",
            "_view_name": "TextView",
            "continuous_update": true,
            "description": "Username:",
            "description_tooltip": null,
            "disabled": false,
            "layout": "IPY_MODEL_0ff9ec1655e94e909d310eae9046ded0",
            "placeholder": "​",
            "style": "IPY_MODEL_b0e949a7edad4a939d3d9ec19d4c24d1",
            "value": "NatePGroves"
          }
        },
        "ff10ae25c1484c809185cba80e6f78c2": {
          "model_module": "@jupyter-widgets/controls",
          "model_name": "PasswordModel",
          "model_module_version": "1.5.0",
          "state": {
            "_dom_classes": [],
            "_model_module": "@jupyter-widgets/controls",
            "_model_module_version": "1.5.0",
            "_model_name": "PasswordModel",
            "_view_count": null,
            "_view_module": "@jupyter-widgets/controls",
            "_view_module_version": "1.5.0",
            "_view_name": "PasswordView",
            "continuous_update": true,
            "description": "Token:",
            "description_tooltip": null,
            "disabled": false,
            "layout": "IPY_MODEL_5a77aba8495f439fb1571d0521a5643d",
            "placeholder": "​",
            "style": "IPY_MODEL_e322278eae964f269d592680cca83eb2",
            "value": ""
          }
        },
        "9f803bccdb014ddab058fbd218816b80": {
          "model_module": "@jupyter-widgets/controls",
          "model_name": "ButtonModel",
          "model_module_version": "1.5.0",
          "state": {
            "_dom_classes": [],
            "_model_module": "@jupyter-widgets/controls",
            "_model_module_version": "1.5.0",
            "_model_name": "ButtonModel",
            "_view_count": null,
            "_view_module": "@jupyter-widgets/controls",
            "_view_module_version": "1.5.0",
            "_view_name": "ButtonView",
            "button_style": "",
            "description": "Login",
            "disabled": false,
            "icon": "",
            "layout": "IPY_MODEL_8f95929f83c84815ba5ef63cae28f7f1",
            "style": "IPY_MODEL_037fe943b79b427eb5b0d9df75c8af12",
            "tooltip": ""
          }
        },
        "dc391f69dad0404991ef9e2579e2df58": {
          "model_module": "@jupyter-widgets/controls",
          "model_name": "HTMLModel",
          "model_module_version": "1.5.0",
          "state": {
            "_dom_classes": [],
            "_model_module": "@jupyter-widgets/controls",
            "_model_module_version": "1.5.0",
            "_model_name": "HTMLModel",
            "_view_count": null,
            "_view_module": "@jupyter-widgets/controls",
            "_view_module_version": "1.5.0",
            "_view_name": "HTMLView",
            "description": "",
            "description_tooltip": null,
            "layout": "IPY_MODEL_e9f940843e39480387aa93d453a41823",
            "placeholder": "​",
            "style": "IPY_MODEL_7980b8ac41ab4599a5eea84101d32a47",
            "value": "\n<b>Thank You</b></center>"
          }
        },
        "556194803abf4d84808f8cd0ed557247": {
          "model_module": "@jupyter-widgets/base",
          "model_name": "LayoutModel",
          "model_module_version": "1.2.0",
          "state": {
            "_model_module": "@jupyter-widgets/base",
            "_model_module_version": "1.2.0",
            "_model_name": "LayoutModel",
            "_view_count": null,
            "_view_module": "@jupyter-widgets/base",
            "_view_module_version": "1.2.0",
            "_view_name": "LayoutView",
            "align_content": null,
            "align_items": "center",
            "align_self": null,
            "border": null,
            "bottom": null,
            "display": "flex",
            "flex": null,
            "flex_flow": "column",
            "grid_area": null,
            "grid_auto_columns": null,
            "grid_auto_flow": null,
            "grid_auto_rows": null,
            "grid_column": null,
            "grid_gap": null,
            "grid_row": null,
            "grid_template_areas": null,
            "grid_template_columns": null,
            "grid_template_rows": null,
            "height": null,
            "justify_content": null,
            "justify_items": null,
            "left": null,
            "margin": null,
            "max_height": null,
            "max_width": null,
            "min_height": null,
            "min_width": null,
            "object_fit": null,
            "object_position": null,
            "order": null,
            "overflow": null,
            "overflow_x": null,
            "overflow_y": null,
            "padding": null,
            "right": null,
            "top": null,
            "visibility": null,
            "width": "50%"
          }
        },
        "c0c9ac41c70e4ae996e60ffadb1054bb": {
          "model_module": "@jupyter-widgets/base",
          "model_name": "LayoutModel",
          "model_module_version": "1.2.0",
          "state": {
            "_model_module": "@jupyter-widgets/base",
            "_model_module_version": "1.2.0",
            "_model_name": "LayoutModel",
            "_view_count": null,
            "_view_module": "@jupyter-widgets/base",
            "_view_module_version": "1.2.0",
            "_view_name": "LayoutView",
            "align_content": null,
            "align_items": null,
            "align_self": null,
            "border": null,
            "bottom": null,
            "display": null,
            "flex": null,
            "flex_flow": null,
            "grid_area": null,
            "grid_auto_columns": null,
            "grid_auto_flow": null,
            "grid_auto_rows": null,
            "grid_column": null,
            "grid_gap": null,
            "grid_row": null,
            "grid_template_areas": null,
            "grid_template_columns": null,
            "grid_template_rows": null,
            "height": null,
            "justify_content": null,
            "justify_items": null,
            "left": null,
            "margin": null,
            "max_height": null,
            "max_width": null,
            "min_height": null,
            "min_width": null,
            "object_fit": null,
            "object_position": null,
            "order": null,
            "overflow": null,
            "overflow_x": null,
            "overflow_y": null,
            "padding": null,
            "right": null,
            "top": null,
            "visibility": null,
            "width": null
          }
        },
        "f3b9b7b6460342b696d0c8ec81487f3c": {
          "model_module": "@jupyter-widgets/controls",
          "model_name": "DescriptionStyleModel",
          "model_module_version": "1.5.0",
          "state": {
            "_model_module": "@jupyter-widgets/controls",
            "_model_module_version": "1.5.0",
            "_model_name": "DescriptionStyleModel",
            "_view_count": null,
            "_view_module": "@jupyter-widgets/base",
            "_view_module_version": "1.2.0",
            "_view_name": "StyleView",
            "description_width": ""
          }
        },
        "0ff9ec1655e94e909d310eae9046ded0": {
          "model_module": "@jupyter-widgets/base",
          "model_name": "LayoutModel",
          "model_module_version": "1.2.0",
          "state": {
            "_model_module": "@jupyter-widgets/base",
            "_model_module_version": "1.2.0",
            "_model_name": "LayoutModel",
            "_view_count": null,
            "_view_module": "@jupyter-widgets/base",
            "_view_module_version": "1.2.0",
            "_view_name": "LayoutView",
            "align_content": null,
            "align_items": null,
            "align_self": null,
            "border": null,
            "bottom": null,
            "display": null,
            "flex": null,
            "flex_flow": null,
            "grid_area": null,
            "grid_auto_columns": null,
            "grid_auto_flow": null,
            "grid_auto_rows": null,
            "grid_column": null,
            "grid_gap": null,
            "grid_row": null,
            "grid_template_areas": null,
            "grid_template_columns": null,
            "grid_template_rows": null,
            "height": null,
            "justify_content": null,
            "justify_items": null,
            "left": null,
            "margin": null,
            "max_height": null,
            "max_width": null,
            "min_height": null,
            "min_width": null,
            "object_fit": null,
            "object_position": null,
            "order": null,
            "overflow": null,
            "overflow_x": null,
            "overflow_y": null,
            "padding": null,
            "right": null,
            "top": null,
            "visibility": null,
            "width": null
          }
        },
        "b0e949a7edad4a939d3d9ec19d4c24d1": {
          "model_module": "@jupyter-widgets/controls",
          "model_name": "DescriptionStyleModel",
          "model_module_version": "1.5.0",
          "state": {
            "_model_module": "@jupyter-widgets/controls",
            "_model_module_version": "1.5.0",
            "_model_name": "DescriptionStyleModel",
            "_view_count": null,
            "_view_module": "@jupyter-widgets/base",
            "_view_module_version": "1.2.0",
            "_view_name": "StyleView",
            "description_width": ""
          }
        },
        "5a77aba8495f439fb1571d0521a5643d": {
          "model_module": "@jupyter-widgets/base",
          "model_name": "LayoutModel",
          "model_module_version": "1.2.0",
          "state": {
            "_model_module": "@jupyter-widgets/base",
            "_model_module_version": "1.2.0",
            "_model_name": "LayoutModel",
            "_view_count": null,
            "_view_module": "@jupyter-widgets/base",
            "_view_module_version": "1.2.0",
            "_view_name": "LayoutView",
            "align_content": null,
            "align_items": null,
            "align_self": null,
            "border": null,
            "bottom": null,
            "display": null,
            "flex": null,
            "flex_flow": null,
            "grid_area": null,
            "grid_auto_columns": null,
            "grid_auto_flow": null,
            "grid_auto_rows": null,
            "grid_column": null,
            "grid_gap": null,
            "grid_row": null,
            "grid_template_areas": null,
            "grid_template_columns": null,
            "grid_template_rows": null,
            "height": null,
            "justify_content": null,
            "justify_items": null,
            "left": null,
            "margin": null,
            "max_height": null,
            "max_width": null,
            "min_height": null,
            "min_width": null,
            "object_fit": null,
            "object_position": null,
            "order": null,
            "overflow": null,
            "overflow_x": null,
            "overflow_y": null,
            "padding": null,
            "right": null,
            "top": null,
            "visibility": null,
            "width": null
          }
        },
        "e322278eae964f269d592680cca83eb2": {
          "model_module": "@jupyter-widgets/controls",
          "model_name": "DescriptionStyleModel",
          "model_module_version": "1.5.0",
          "state": {
            "_model_module": "@jupyter-widgets/controls",
            "_model_module_version": "1.5.0",
            "_model_name": "DescriptionStyleModel",
            "_view_count": null,
            "_view_module": "@jupyter-widgets/base",
            "_view_module_version": "1.2.0",
            "_view_name": "StyleView",
            "description_width": ""
          }
        },
        "8f95929f83c84815ba5ef63cae28f7f1": {
          "model_module": "@jupyter-widgets/base",
          "model_name": "LayoutModel",
          "model_module_version": "1.2.0",
          "state": {
            "_model_module": "@jupyter-widgets/base",
            "_model_module_version": "1.2.0",
            "_model_name": "LayoutModel",
            "_view_count": null,
            "_view_module": "@jupyter-widgets/base",
            "_view_module_version": "1.2.0",
            "_view_name": "LayoutView",
            "align_content": null,
            "align_items": null,
            "align_self": null,
            "border": null,
            "bottom": null,
            "display": null,
            "flex": null,
            "flex_flow": null,
            "grid_area": null,
            "grid_auto_columns": null,
            "grid_auto_flow": null,
            "grid_auto_rows": null,
            "grid_column": null,
            "grid_gap": null,
            "grid_row": null,
            "grid_template_areas": null,
            "grid_template_columns": null,
            "grid_template_rows": null,
            "height": null,
            "justify_content": null,
            "justify_items": null,
            "left": null,
            "margin": null,
            "max_height": null,
            "max_width": null,
            "min_height": null,
            "min_width": null,
            "object_fit": null,
            "object_position": null,
            "order": null,
            "overflow": null,
            "overflow_x": null,
            "overflow_y": null,
            "padding": null,
            "right": null,
            "top": null,
            "visibility": null,
            "width": null
          }
        },
        "037fe943b79b427eb5b0d9df75c8af12": {
          "model_module": "@jupyter-widgets/controls",
          "model_name": "ButtonStyleModel",
          "model_module_version": "1.5.0",
          "state": {
            "_model_module": "@jupyter-widgets/controls",
            "_model_module_version": "1.5.0",
            "_model_name": "ButtonStyleModel",
            "_view_count": null,
            "_view_module": "@jupyter-widgets/base",
            "_view_module_version": "1.2.0",
            "_view_name": "StyleView",
            "button_color": null,
            "font_weight": ""
          }
        },
        "e9f940843e39480387aa93d453a41823": {
          "model_module": "@jupyter-widgets/base",
          "model_name": "LayoutModel",
          "model_module_version": "1.2.0",
          "state": {
            "_model_module": "@jupyter-widgets/base",
            "_model_module_version": "1.2.0",
            "_model_name": "LayoutModel",
            "_view_count": null,
            "_view_module": "@jupyter-widgets/base",
            "_view_module_version": "1.2.0",
            "_view_name": "LayoutView",
            "align_content": null,
            "align_items": null,
            "align_self": null,
            "border": null,
            "bottom": null,
            "display": null,
            "flex": null,
            "flex_flow": null,
            "grid_area": null,
            "grid_auto_columns": null,
            "grid_auto_flow": null,
            "grid_auto_rows": null,
            "grid_column": null,
            "grid_gap": null,
            "grid_row": null,
            "grid_template_areas": null,
            "grid_template_columns": null,
            "grid_template_rows": null,
            "height": null,
            "justify_content": null,
            "justify_items": null,
            "left": null,
            "margin": null,
            "max_height": null,
            "max_width": null,
            "min_height": null,
            "min_width": null,
            "object_fit": null,
            "object_position": null,
            "order": null,
            "overflow": null,
            "overflow_x": null,
            "overflow_y": null,
            "padding": null,
            "right": null,
            "top": null,
            "visibility": null,
            "width": null
          }
        },
        "7980b8ac41ab4599a5eea84101d32a47": {
          "model_module": "@jupyter-widgets/controls",
          "model_name": "DescriptionStyleModel",
          "model_module_version": "1.5.0",
          "state": {
            "_model_module": "@jupyter-widgets/controls",
            "_model_module_version": "1.5.0",
            "_model_name": "DescriptionStyleModel",
            "_view_count": null,
            "_view_module": "@jupyter-widgets/base",
            "_view_module_version": "1.2.0",
            "_view_name": "StyleView",
            "description_width": ""
          }
        },
        "a2fadbb79f1f443aa9669e288c18b890": {
          "model_module": "@jupyter-widgets/controls",
          "model_name": "LabelModel",
          "model_module_version": "1.5.0",
          "state": {
            "_dom_classes": [],
            "_model_module": "@jupyter-widgets/controls",
            "_model_module_version": "1.5.0",
            "_model_name": "LabelModel",
            "_view_count": null,
            "_view_module": "@jupyter-widgets/controls",
            "_view_module_version": "1.5.0",
            "_view_name": "LabelView",
            "description": "",
            "description_tooltip": null,
            "layout": "IPY_MODEL_5d8cbc8f50e2478e81421c6e68846c1a",
            "placeholder": "​",
            "style": "IPY_MODEL_386b085a4b0e4805b305d0acd7e2a19c",
            "value": "Connecting..."
          }
        },
        "5d8cbc8f50e2478e81421c6e68846c1a": {
          "model_module": "@jupyter-widgets/base",
          "model_name": "LayoutModel",
          "model_module_version": "1.2.0",
          "state": {
            "_model_module": "@jupyter-widgets/base",
            "_model_module_version": "1.2.0",
            "_model_name": "LayoutModel",
            "_view_count": null,
            "_view_module": "@jupyter-widgets/base",
            "_view_module_version": "1.2.0",
            "_view_name": "LayoutView",
            "align_content": null,
            "align_items": null,
            "align_self": null,
            "border": null,
            "bottom": null,
            "display": null,
            "flex": null,
            "flex_flow": null,
            "grid_area": null,
            "grid_auto_columns": null,
            "grid_auto_flow": null,
            "grid_auto_rows": null,
            "grid_column": null,
            "grid_gap": null,
            "grid_row": null,
            "grid_template_areas": null,
            "grid_template_columns": null,
            "grid_template_rows": null,
            "height": null,
            "justify_content": null,
            "justify_items": null,
            "left": null,
            "margin": null,
            "max_height": null,
            "max_width": null,
            "min_height": null,
            "min_width": null,
            "object_fit": null,
            "object_position": null,
            "order": null,
            "overflow": null,
            "overflow_x": null,
            "overflow_y": null,
            "padding": null,
            "right": null,
            "top": null,
            "visibility": null,
            "width": null
          }
        },
        "386b085a4b0e4805b305d0acd7e2a19c": {
          "model_module": "@jupyter-widgets/controls",
          "model_name": "DescriptionStyleModel",
          "model_module_version": "1.5.0",
          "state": {
            "_model_module": "@jupyter-widgets/controls",
            "_model_module_version": "1.5.0",
            "_model_name": "DescriptionStyleModel",
            "_view_count": null,
            "_view_module": "@jupyter-widgets/base",
            "_view_module_version": "1.2.0",
            "_view_name": "StyleView",
            "description_width": ""
          }
        },
        "f3d8cc1479da4a4e8243b1d1f20a0ea8": {
          "model_module": "@jupyter-widgets/controls",
          "model_name": "LabelModel",
          "model_module_version": "1.5.0",
          "state": {
            "_dom_classes": [],
            "_model_module": "@jupyter-widgets/controls",
            "_model_module_version": "1.5.0",
            "_model_name": "LabelModel",
            "_view_count": null,
            "_view_module": "@jupyter-widgets/controls",
            "_view_module_version": "1.5.0",
            "_view_name": "LabelView",
            "description": "",
            "description_tooltip": null,
            "layout": "IPY_MODEL_7dbe78062d984c6a8e54226685be3593",
            "placeholder": "​",
            "style": "IPY_MODEL_c6bb6c707ba440258d8f3c9268b5d012",
            "value": "401 Client Error."
          }
        },
        "1f640dd0038340fca577e6bb4b6ff2f1": {
          "model_module": "@jupyter-widgets/controls",
          "model_name": "LabelModel",
          "model_module_version": "1.5.0",
          "state": {
            "_dom_classes": [],
            "_model_module": "@jupyter-widgets/controls",
            "_model_module_version": "1.5.0",
            "_model_name": "LabelModel",
            "_view_count": null,
            "_view_module": "@jupyter-widgets/controls",
            "_view_module_version": "1.5.0",
            "_view_name": "LabelView",
            "description": "",
            "description_tooltip": null,
            "layout": "IPY_MODEL_06da58fcc93d41dc882d558b271e7cdf",
            "placeholder": "​",
            "style": "IPY_MODEL_2ac0b22d97af45fba44f94581a33a390",
            "value": "You don't have permission to access resource at URL: https://www.kaggle.com/api/v1/hello"
          }
        },
        "51277c59e9844243837195afe9414761": {
          "model_module": "@jupyter-widgets/controls",
          "model_name": "LabelModel",
          "model_module_version": "1.5.0",
          "state": {
            "_dom_classes": [],
            "_model_module": "@jupyter-widgets/controls",
            "_model_module_version": "1.5.0",
            "_model_name": "LabelModel",
            "_view_count": null,
            "_view_module": "@jupyter-widgets/controls",
            "_view_module_version": "1.5.0",
            "_view_name": "LabelView",
            "description": "",
            "description_tooltip": null,
            "layout": "IPY_MODEL_75e16a01155041ed94355ed812d85a52",
            "placeholder": "​",
            "style": "IPY_MODEL_f39f634ba0e04c5b921781572fce6826",
            "value": "Please make sure you are authenticated if you are trying to access a private resource or a resource requiring consent."
          }
        },
        "7dbe78062d984c6a8e54226685be3593": {
          "model_module": "@jupyter-widgets/base",
          "model_name": "LayoutModel",
          "model_module_version": "1.2.0",
          "state": {
            "_model_module": "@jupyter-widgets/base",
            "_model_module_version": "1.2.0",
            "_model_name": "LayoutModel",
            "_view_count": null,
            "_view_module": "@jupyter-widgets/base",
            "_view_module_version": "1.2.0",
            "_view_name": "LayoutView",
            "align_content": null,
            "align_items": null,
            "align_self": null,
            "border": null,
            "bottom": null,
            "display": null,
            "flex": null,
            "flex_flow": null,
            "grid_area": null,
            "grid_auto_columns": null,
            "grid_auto_flow": null,
            "grid_auto_rows": null,
            "grid_column": null,
            "grid_gap": null,
            "grid_row": null,
            "grid_template_areas": null,
            "grid_template_columns": null,
            "grid_template_rows": null,
            "height": null,
            "justify_content": null,
            "justify_items": null,
            "left": null,
            "margin": null,
            "max_height": null,
            "max_width": null,
            "min_height": null,
            "min_width": null,
            "object_fit": null,
            "object_position": null,
            "order": null,
            "overflow": null,
            "overflow_x": null,
            "overflow_y": null,
            "padding": null,
            "right": null,
            "top": null,
            "visibility": null,
            "width": null
          }
        },
        "c6bb6c707ba440258d8f3c9268b5d012": {
          "model_module": "@jupyter-widgets/controls",
          "model_name": "DescriptionStyleModel",
          "model_module_version": "1.5.0",
          "state": {
            "_model_module": "@jupyter-widgets/controls",
            "_model_module_version": "1.5.0",
            "_model_name": "DescriptionStyleModel",
            "_view_count": null,
            "_view_module": "@jupyter-widgets/base",
            "_view_module_version": "1.2.0",
            "_view_name": "StyleView",
            "description_width": ""
          }
        },
        "06da58fcc93d41dc882d558b271e7cdf": {
          "model_module": "@jupyter-widgets/base",
          "model_name": "LayoutModel",
          "model_module_version": "1.2.0",
          "state": {
            "_model_module": "@jupyter-widgets/base",
            "_model_module_version": "1.2.0",
            "_model_name": "LayoutModel",
            "_view_count": null,
            "_view_module": "@jupyter-widgets/base",
            "_view_module_version": "1.2.0",
            "_view_name": "LayoutView",
            "align_content": null,
            "align_items": null,
            "align_self": null,
            "border": null,
            "bottom": null,
            "display": null,
            "flex": null,
            "flex_flow": null,
            "grid_area": null,
            "grid_auto_columns": null,
            "grid_auto_flow": null,
            "grid_auto_rows": null,
            "grid_column": null,
            "grid_gap": null,
            "grid_row": null,
            "grid_template_areas": null,
            "grid_template_columns": null,
            "grid_template_rows": null,
            "height": null,
            "justify_content": null,
            "justify_items": null,
            "left": null,
            "margin": null,
            "max_height": null,
            "max_width": null,
            "min_height": null,
            "min_width": null,
            "object_fit": null,
            "object_position": null,
            "order": null,
            "overflow": null,
            "overflow_x": null,
            "overflow_y": null,
            "padding": null,
            "right": null,
            "top": null,
            "visibility": null,
            "width": null
          }
        },
        "2ac0b22d97af45fba44f94581a33a390": {
          "model_module": "@jupyter-widgets/controls",
          "model_name": "DescriptionStyleModel",
          "model_module_version": "1.5.0",
          "state": {
            "_model_module": "@jupyter-widgets/controls",
            "_model_module_version": "1.5.0",
            "_model_name": "DescriptionStyleModel",
            "_view_count": null,
            "_view_module": "@jupyter-widgets/base",
            "_view_module_version": "1.2.0",
            "_view_name": "StyleView",
            "description_width": ""
          }
        },
        "75e16a01155041ed94355ed812d85a52": {
          "model_module": "@jupyter-widgets/base",
          "model_name": "LayoutModel",
          "model_module_version": "1.2.0",
          "state": {
            "_model_module": "@jupyter-widgets/base",
            "_model_module_version": "1.2.0",
            "_model_name": "LayoutModel",
            "_view_count": null,
            "_view_module": "@jupyter-widgets/base",
            "_view_module_version": "1.2.0",
            "_view_name": "LayoutView",
            "align_content": null,
            "align_items": null,
            "align_self": null,
            "border": null,
            "bottom": null,
            "display": null,
            "flex": null,
            "flex_flow": null,
            "grid_area": null,
            "grid_auto_columns": null,
            "grid_auto_flow": null,
            "grid_auto_rows": null,
            "grid_column": null,
            "grid_gap": null,
            "grid_row": null,
            "grid_template_areas": null,
            "grid_template_columns": null,
            "grid_template_rows": null,
            "height": null,
            "justify_content": null,
            "justify_items": null,
            "left": null,
            "margin": null,
            "max_height": null,
            "max_width": null,
            "min_height": null,
            "min_width": null,
            "object_fit": null,
            "object_position": null,
            "order": null,
            "overflow": null,
            "overflow_x": null,
            "overflow_y": null,
            "padding": null,
            "right": null,
            "top": null,
            "visibility": null,
            "width": null
          }
        },
        "f39f634ba0e04c5b921781572fce6826": {
          "model_module": "@jupyter-widgets/controls",
          "model_name": "DescriptionStyleModel",
          "model_module_version": "1.5.0",
          "state": {
            "_model_module": "@jupyter-widgets/controls",
            "_model_module_version": "1.5.0",
            "_model_name": "DescriptionStyleModel",
            "_view_count": null,
            "_view_module": "@jupyter-widgets/base",
            "_view_module_version": "1.2.0",
            "_view_name": "StyleView",
            "description_width": ""
          }
        }
      }
    }
  },
  "nbformat_minor": 0,
  "nbformat": 4,
  "cells": [
    {
      "cell_type": "markdown",
      "metadata": {
        "id": "view-in-github",
        "colab_type": "text"
      },
      "source": [
        "<a href=\"https://colab.research.google.com/github/NatePGroves/Code_Examples/blob/main/Final_ensemble.ipynb\" target=\"_parent\"><img src=\"https://colab.research.google.com/assets/colab-badge.svg\" alt=\"Open In Colab\"/></a>"
      ]
    },
    {
      "source": [
        "# IMPORTANT: SOME KAGGLE DATA SOURCES ARE PRIVATE\n",
        "# RUN THIS CELL IN ORDER TO IMPORT YOUR KAGGLE DATA SOURCES.\n",
        "import kagglehub\n",
        "kagglehub.login()\n"
      ],
      "metadata": {
        "id": "nMMIugXf8MTm",
        "colab": {
          "base_uri": "https://localhost:8080/",
          "height": 130,
          "referenced_widgets": [
            "ed4e9b65aea24bf9b46e1048ee66f713",
            "51a280b9706e466bb35905e24f6b1384",
            "e63d90c22b7e47feace83f0b9cc96473",
            "ff10ae25c1484c809185cba80e6f78c2",
            "9f803bccdb014ddab058fbd218816b80",
            "dc391f69dad0404991ef9e2579e2df58",
            "556194803abf4d84808f8cd0ed557247",
            "c0c9ac41c70e4ae996e60ffadb1054bb",
            "f3b9b7b6460342b696d0c8ec81487f3c",
            "0ff9ec1655e94e909d310eae9046ded0",
            "b0e949a7edad4a939d3d9ec19d4c24d1",
            "5a77aba8495f439fb1571d0521a5643d",
            "e322278eae964f269d592680cca83eb2",
            "8f95929f83c84815ba5ef63cae28f7f1",
            "037fe943b79b427eb5b0d9df75c8af12",
            "e9f940843e39480387aa93d453a41823",
            "7980b8ac41ab4599a5eea84101d32a47",
            "a2fadbb79f1f443aa9669e288c18b890",
            "5d8cbc8f50e2478e81421c6e68846c1a",
            "386b085a4b0e4805b305d0acd7e2a19c",
            "f3d8cc1479da4a4e8243b1d1f20a0ea8",
            "1f640dd0038340fca577e6bb4b6ff2f1",
            "51277c59e9844243837195afe9414761",
            "7dbe78062d984c6a8e54226685be3593",
            "c6bb6c707ba440258d8f3c9268b5d012",
            "06da58fcc93d41dc882d558b271e7cdf",
            "2ac0b22d97af45fba44f94581a33a390",
            "75e16a01155041ed94355ed812d85a52",
            "f39f634ba0e04c5b921781572fce6826"
          ]
        },
        "outputId": "afa15b25-2d94-4633-fd77-fa8acea539af"
      },
      "cell_type": "code",
      "outputs": [
        {
          "output_type": "display_data",
          "data": {
            "text/plain": [
              "VBox(children=(HTML(value='<center> <img\\nsrc=https://www.kaggle.com/static/images/site-logo.png\\nalt=\\'Kaggle…"
            ],
            "application/vnd.jupyter.widget-view+json": {
              "version_major": 2,
              "version_minor": 0,
              "model_id": "ed4e9b65aea24bf9b46e1048ee66f713"
            }
          },
          "metadata": {}
        },
        {
          "output_type": "stream",
          "name": "stdout",
          "text": [
            "Kaggle credentials set.\n"
          ]
        }
      ],
      "execution_count": null
    },
    {
      "source": [
        "# IMPORTANT: RUN THIS CELL IN ORDER TO IMPORT YOUR KAGGLE DATA SOURCES,\n",
        "# THEN FEEL FREE TO DELETE THIS CELL.\n",
        "# NOTE: THIS NOTEBOOK ENVIRONMENT DIFFERS FROM KAGGLE'S PYTHON\n",
        "# ENVIRONMENT SO THERE MAY BE MISSING LIBRARIES USED BY YOUR\n",
        "# NOTEBOOK.\n",
        "\n",
        "csc_480_project_1_2024fall_path = kagglehub.competition_download('csc-480-project-1-2024fall')\n",
        "\n",
        "print('Data source import complete.')\n"
      ],
      "metadata": {
        "id": "zxm9grWl8MTp"
      },
      "cell_type": "code",
      "outputs": [],
      "execution_count": null
    },
    {
      "cell_type": "markdown",
      "source": [
        "# MODEL 1"
      ],
      "metadata": {
        "id": "H_0wQjDg8MTq"
      }
    },
    {
      "cell_type": "code",
      "source": [
        "## setup\n",
        "\n",
        "from pathlib import Path\n",
        "import numpy as np\n",
        "import pandas as pd\n",
        "import tensorflow as tf\n",
        "from tensorflow import keras\n",
        "from keras import layers\n",
        "from tensorflow.keras.callbacks import EarlyStopping\n",
        "\n",
        "def load_dataset(csv_path, hmi_folder_path):\n",
        "    ## load dataframe and hmi_data\n",
        "    df = pd.read_csv(csv_path)\n",
        "    hmi_folder_path = Path(hmi_folder_path)\n",
        "    hmi_path = df[\"HMI_img\"].apply(lambda x: hmi_folder_path / x)\n",
        "    hmi_data = np.zeros((len(hmi_path), 224, 224))\n",
        "    for i in range(len(hmi_path)):\n",
        "        hmi_data[i] = np.load(hmi_path[i])\n",
        "    return df, hmi_data"
      ],
      "metadata": {
        "trusted": true,
        "execution": {
          "iopub.status.busy": "2024-11-30T22:32:59.822689Z",
          "iopub.execute_input": "2024-11-30T22:32:59.82312Z",
          "iopub.status.idle": "2024-11-30T22:33:16.224866Z",
          "shell.execute_reply.started": "2024-11-30T22:32:59.823054Z",
          "shell.execute_reply": "2024-11-30T22:33:16.223589Z"
        },
        "id": "_I8_cQ7X8MTr"
      },
      "outputs": [],
      "execution_count": null
    },
    {
      "cell_type": "code",
      "source": [
        "## data\n",
        "\n",
        "# training\n",
        "csv_path = \"/kaggle/input/csc-480-project-1-2024fall/train_df.csv\"\n",
        "hmi_folder_path = \"/kaggle/input/csc-480-project-1-2024fall/HMI_data/hmi_data/\"\n",
        "df, hmi_data = load_dataset(csv_path, hmi_folder_path)\n",
        "\n",
        "# normalizing\n",
        "x_train = hmi_data / 255.\n",
        "y_train = df[[\"tsi_pert_0\"]].values\n",
        "\n",
        "# timestamps\n",
        "timestamps = df[\"timestamp\"].values\n",
        "timestamps = timestamps - np.min(timestamps)\n",
        "timestamps = timestamps / np.max(timestamps)\n",
        "\n",
        "# validation\n",
        "csv_path2 = \"/kaggle/input/csc-480-project-1-2024fall/test_df.csv\"\n",
        "df2, hmi_data2 = load_dataset(csv_path2, hmi_folder_path)\n",
        "x_valid = hmi_data2 / 255.\n",
        "y_valid = df2[[\"tsi_pert_0\"]].values\n",
        "timestamps_valid = df2[\"timestamp\"].values\n",
        "timestamps_valid = timestamps_valid - np.min(timestamps_valid)\n",
        "timestamps_valid = timestamps_valid / np.max(timestamps_valid)"
      ],
      "metadata": {
        "trusted": true,
        "execution": {
          "iopub.status.busy": "2024-11-30T22:33:16.226819Z",
          "iopub.execute_input": "2024-11-30T22:33:16.227459Z",
          "iopub.status.idle": "2024-11-30T22:33:46.066875Z",
          "shell.execute_reply.started": "2024-11-30T22:33:16.227422Z",
          "shell.execute_reply": "2024-11-30T22:33:46.065359Z"
        },
        "id": "Db1LIbbL8MTs"
      },
      "outputs": [],
      "execution_count": null
    },
    {
      "cell_type": "code",
      "source": [
        "# cnn\n",
        "image_input = keras.Input(shape=(224, 224, 1))  # Image input\n",
        "x = layers.Conv2D(16, (3, 3), activation=\"relu\", padding=\"same\")(image_input)\n",
        "x = layers.MaxPooling2D((2, 2))(x)\n",
        "x = layers.Conv2D(32, (3, 3), activation=\"relu\", padding=\"same\")(x)\n",
        "x = layers.MaxPooling2D((2, 2))(x)\n",
        "x = layers.Flatten()(x)\n",
        "x = layers.Dropout(0.5)(x)\n",
        "x = layers.Dense(300, activation=\"relu\")(x)\n",
        "x = layers.Dense(100, activation=\"relu\")(x)\n",
        "x = layers.Dense(50, activation=\"relu\")(x)"
      ],
      "metadata": {
        "trusted": true,
        "execution": {
          "iopub.status.busy": "2024-11-30T22:33:46.068531Z",
          "iopub.execute_input": "2024-11-30T22:33:46.068912Z",
          "iopub.status.idle": "2024-11-30T22:33:46.493107Z",
          "shell.execute_reply.started": "2024-11-30T22:33:46.068877Z",
          "shell.execute_reply": "2024-11-30T22:33:46.491955Z"
        },
        "id": "SszMLr6c8MTs"
      },
      "outputs": [],
      "execution_count": null
    },
    {
      "cell_type": "code",
      "source": [
        "# timestamp input\n",
        "timestamp_input = keras.Input(shape=(1,))  # Timestamp input\n",
        "y = layers.Dense(50, activation=\"relu\")(timestamp_input)\n",
        "\n",
        "merged = layers.concatenate([x, y])"
      ],
      "metadata": {
        "trusted": true,
        "execution": {
          "iopub.status.busy": "2024-11-30T22:33:46.495715Z",
          "iopub.execute_input": "2024-11-30T22:33:46.496112Z",
          "iopub.status.idle": "2024-11-30T22:33:46.515955Z",
          "shell.execute_reply.started": "2024-11-30T22:33:46.496059Z",
          "shell.execute_reply": "2024-11-30T22:33:46.514409Z"
        },
        "id": "WH1mQMM98MTt"
      },
      "outputs": [],
      "execution_count": null
    },
    {
      "cell_type": "code",
      "source": [
        "# final model\n",
        "output = layers.Dense(1, activation=\"linear\")(merged)\n",
        "\n",
        "model = keras.Model(inputs=[image_input, timestamp_input], outputs=output)\n",
        "\n",
        "model.compile(optimizer='adam', loss='mae', metrics=['mae'])"
      ],
      "metadata": {
        "trusted": true,
        "execution": {
          "iopub.status.busy": "2024-11-30T22:33:46.517239Z",
          "iopub.execute_input": "2024-11-30T22:33:46.517701Z",
          "iopub.status.idle": "2024-11-30T22:33:46.551952Z",
          "shell.execute_reply.started": "2024-11-30T22:33:46.517654Z",
          "shell.execute_reply": "2024-11-30T22:33:46.550998Z"
        },
        "id": "ZCoprz6a8MTt"
      },
      "outputs": [],
      "execution_count": null
    },
    {
      "cell_type": "code",
      "source": [
        "# early stopping\n",
        "\n",
        "early_stopping = EarlyStopping(\n",
        "    monitor='val_mae',\n",
        "    patience=5,\n",
        "    mode='min',\n",
        "    restore_best_weights=True\n",
        ")"
      ],
      "metadata": {
        "trusted": true,
        "execution": {
          "iopub.status.busy": "2024-11-30T22:33:46.553245Z",
          "iopub.execute_input": "2024-11-30T22:33:46.553566Z",
          "iopub.status.idle": "2024-11-30T22:33:46.558907Z",
          "shell.execute_reply.started": "2024-11-30T22:33:46.553537Z",
          "shell.execute_reply": "2024-11-30T22:33:46.557686Z"
        },
        "id": "TK7mTtqY8MTu"
      },
      "outputs": [],
      "execution_count": null
    },
    {
      "cell_type": "code",
      "source": [
        "# training\n",
        "\n",
        "history = model.fit(\n",
        "    [x_train, timestamps], y_train,\n",
        "    epochs=50,\n",
        "    validation_data=([x_valid, timestamps_valid], y_valid),\n",
        "    callbacks=[early_stopping]\n",
        ")"
      ],
      "metadata": {
        "trusted": true,
        "execution": {
          "iopub.status.busy": "2024-11-30T22:33:46.560255Z",
          "iopub.execute_input": "2024-11-30T22:33:46.560672Z",
          "iopub.status.idle": "2024-11-30T22:48:56.62368Z",
          "shell.execute_reply.started": "2024-11-30T22:33:46.560614Z",
          "shell.execute_reply": "2024-11-30T22:48:56.622433Z"
        },
        "id": "FLAbHdu-8MTu"
      },
      "outputs": [],
      "execution_count": null
    },
    {
      "cell_type": "code",
      "source": [
        "## test data\n",
        "\n",
        "test_csv = \"/kaggle/input/csc-480-project-1-2024fall/test_df.csv\"\n",
        "private_csv = \"/kaggle/input/csc-480-project-1-2024fall/test_df_private.csv\"\n",
        "\n",
        "test_df, test_images = load_dataset(test_csv, hmi_folder_path)\n",
        "private_df, private_images = load_dataset(private_csv, hmi_folder_path)\n",
        "\n",
        "# normalize\n",
        "test_images = test_images / 255.\n",
        "private_images = private_images / 255.\n",
        "\n",
        "# timestamps\n",
        "test_timestamps = test_df[\"timestamp\"].values\n",
        "private_timestamps = private_df[\"timestamp\"].values\n",
        "\n",
        "# normalize timestamps\n",
        "test_timestamps = test_timestamps - np.min(test_timestamps)\n",
        "test_timestamps = test_timestamps / np.max(test_timestamps)\n",
        "\n",
        "private_timestamps = private_timestamps - np.min(private_timestamps)\n",
        "private_timestamps = private_timestamps / np.max(private_timestamps)"
      ],
      "metadata": {
        "trusted": true,
        "execution": {
          "iopub.status.busy": "2024-11-30T22:48:56.62544Z",
          "iopub.execute_input": "2024-11-30T22:48:56.625892Z",
          "iopub.status.idle": "2024-11-30T22:48:59.309685Z",
          "shell.execute_reply.started": "2024-11-30T22:48:56.625856Z",
          "shell.execute_reply": "2024-11-30T22:48:59.308497Z"
        },
        "id": "DxEqyOTd8MTu"
      },
      "outputs": [],
      "execution_count": null
    },
    {
      "cell_type": "markdown",
      "source": [
        "# MODEL 2"
      ],
      "metadata": {
        "id": "xb-o0TbQ8MTu"
      }
    },
    {
      "cell_type": "code",
      "source": [
        "from pathlib import Path\n",
        "import numpy as np\n",
        "import pandas as pd\n",
        "import tensorflow as tf\n",
        "from itertools import product\n",
        "from tensorflow import keras\n",
        "from keras.activations import leaky_relu\n",
        "\n",
        "\n",
        "def load_dataset(csv_path, hmi_folder_path):\n",
        "    ## load dataframe and hmi_data\n",
        "    df = pd.read_csv(csv_path)\n",
        "    hmi_folder_path = Path(hmi_folder_path)\n",
        "    hmi_path = df[\"HMI_img\"].apply(lambda x: hmi_folder_path / x)\n",
        "    hmi_data = np.zeros((len(hmi_path), 224, 224))\n",
        "    for i in range(len(hmi_path)):\n",
        "        hmi_data[i] = np.load(hmi_path[i])\n",
        "    return df, hmi_data\n",
        "\n",
        "\n",
        "csv_path1 = \"/kaggle/input/csc-480-project-1-2024fall/train_df.csv\"\n",
        "hmi_folder_path1 = \"/kaggle/input/csc-480-project-1-2024fall/HMI_data/hmi_data/\"\n",
        "\n",
        "df1, hmi_data1 = load_dataset(csv_path, hmi_folder_path)\n",
        "\n",
        "## build dataset\n",
        "x_train1 = hmi_data\n",
        "y_train1 = df[[\"tsi_pert_0\"]].values"
      ],
      "metadata": {
        "trusted": true,
        "execution": {
          "iopub.status.busy": "2024-12-01T00:12:54.768646Z",
          "iopub.execute_input": "2024-12-01T00:12:54.770014Z",
          "iopub.status.idle": "2024-12-01T00:13:02.51535Z",
          "shell.execute_reply.started": "2024-12-01T00:12:54.769952Z",
          "shell.execute_reply": "2024-12-01T00:13:02.514213Z"
        },
        "id": "xLV7RA1X8MTv"
      },
      "outputs": [],
      "execution_count": null
    },
    {
      "cell_type": "code",
      "source": [
        "test_df1, hmi_data_test1 = load_dataset(\"/kaggle/input/csc-480-project-1-2024fall/test_df.csv\", hmi_folder_path1)\n",
        "x_test1 = hmi_data_test1\n",
        "y_test1 = test_df1[[\"tsi_pert_0\"]].values"
      ],
      "metadata": {
        "trusted": true,
        "execution": {
          "iopub.status.busy": "2024-12-01T00:13:09.918592Z",
          "iopub.execute_input": "2024-12-01T00:13:09.919032Z",
          "iopub.status.idle": "2024-12-01T00:13:10.563411Z",
          "shell.execute_reply.started": "2024-12-01T00:13:09.918995Z",
          "shell.execute_reply": "2024-12-01T00:13:10.562172Z"
        },
        "id": "6uOyg1Qu8MTv"
      },
      "outputs": [],
      "execution_count": null
    },
    {
      "cell_type": "code",
      "source": [
        "from keras.layers import LeakyReLU\n",
        "model1 = keras.models.Sequential()\n",
        "model1.add(keras.layers.Conv2D(\n",
        "    filters=32,\n",
        "    kernel_size=(4, 4),\n",
        "    activation='relu',\n",
        "    input_shape=(224, 224, 1)  # Grayscale, channels_last\n",
        "))\n",
        "\n",
        "# Add more layers\n",
        "model1.add(keras.layers.MaxPooling2D(pool_size=(2, 2)))  # Downsample by 2\n",
        "model1.add(keras.layers.Conv2D(filters=32, kernel_size=(4, 4), activation='relu'))\n",
        "model1.add(keras.layers.MaxPooling2D(pool_size=(2, 2)))\n",
        "model1.add(keras.layers.Conv2D(filters=64, kernel_size=(4, 4), activation='relu'))\n",
        "model1.add(keras.layers.MaxPooling2D(pool_size=(2, 2)))\n",
        "model1.add(keras.layers.Conv2D(filters=128, kernel_size=(4, 4), activation='relu'))\n",
        "model1.add(keras.layers.MaxPooling2D(pool_size=(2, 2)))\n",
        "model1.add(keras.layers.Flatten())  # Flatten into a 1D vector\n",
        "\n",
        "# Fully connected layers\n",
        "model1.add(keras.layers.Dense(256))\n",
        "model1.add(LeakyReLU(negative_slope=0.05))\n",
        "model1.add(keras.layers.Dense(128))\n",
        "model1.add(LeakyReLU(negative_slope=0.05))\n",
        "model1.add(keras.layers.Dense(64))\n",
        "model1.add(LeakyReLU(negative_slope=0.05))\n",
        "model1.add(keras.layers.Dense(32))\n",
        "model1.add(LeakyReLU(negative_slope=0.05))\n",
        "\n",
        "\n",
        "  # Hidden dense layer\n",
        "model1.add(keras.layers.Dense(1, activation='linear'))\n",
        "\n",
        "model1.compile(\n",
        "    optimizer='adam',\n",
        "    loss=\"mean_absolute_error\",\n",
        "    metrics = [\"mean_absolute_error\"])\n",
        "\n",
        "\n",
        "# Summary of the model\n",
        "history1 = model.summary()\n",
        "model1.fit(\n",
        "    x_train, y_train,\n",
        "    validation_split= 0.1,\n",
        "    epochs=4,\n",
        "    batch_size=32\n",
        ")"
      ],
      "metadata": {
        "trusted": true,
        "execution": {
          "iopub.status.busy": "2024-12-01T00:13:17.580199Z",
          "iopub.execute_input": "2024-12-01T00:13:17.580608Z",
          "iopub.status.idle": "2024-12-01T00:24:34.533538Z",
          "shell.execute_reply.started": "2024-12-01T00:13:17.580575Z",
          "shell.execute_reply": "2024-12-01T00:24:34.532053Z"
        },
        "id": "KYrIV8t68MTv"
      },
      "outputs": [],
      "execution_count": null
    },
    {
      "cell_type": "markdown",
      "source": [
        "# META MODEL"
      ],
      "metadata": {
        "id": "LZ0PiNN48MTv"
      }
    },
    {
      "cell_type": "code",
      "source": [
        "# test data\n",
        "test_csv = \"/kaggle/input/csc-480-project-1-2024fall/test_df.csv\"\n",
        "private_csv = \"/kaggle/input/csc-480-project-1-2024fall/test_df_private.csv\"\n",
        "\n",
        "test_df, test_images = load_dataset(test_csv, hmi_folder_path)\n",
        "private_df, private_images = load_dataset(private_csv, hmi_folder_path)\n",
        "\n",
        "# normalize (only for first model)\n",
        "test_images_normal = test_images / 255.\n",
        "private_images_normal = private_images / 255.\n",
        "\n",
        "# timestamps\n",
        "test_timestamps = test_df[\"timestamp\"].values\n",
        "private_timestamps = private_df[\"timestamp\"].values\n",
        "\n",
        "# normalize timestamps\n",
        "test_timestamps = test_timestamps - np.min(test_timestamps)\n",
        "test_timestamps = test_timestamps / np.max(test_timestamps)\n",
        "\n",
        "private_timestamps = private_timestamps - np.min(private_timestamps)\n",
        "private_timestamps = private_timestamps / np.max(private_timestamps)\n"
      ],
      "metadata": {
        "trusted": true,
        "execution": {
          "iopub.status.busy": "2024-12-01T00:46:59.107202Z",
          "iopub.execute_input": "2024-12-01T00:46:59.107676Z",
          "iopub.status.idle": "2024-12-01T00:46:59.948571Z",
          "shell.execute_reply.started": "2024-12-01T00:46:59.107642Z",
          "shell.execute_reply": "2024-12-01T00:46:59.947383Z"
        },
        "id": "1VXfkMSI8MTv"
      },
      "outputs": [],
      "execution_count": null
    },
    {
      "cell_type": "code",
      "source": [
        "## predictions\n",
        "\n",
        "# first model\n",
        "test_predictions_ts = model.predict([test_images_normal, test_timestamps]).flatten()\n",
        "private_predictions_ts = model.predict([private_images_normal, private_timestamps]).flatten()\n",
        "bulk1 = model.predict([x_train, timestamps]).flatten()\n",
        "\n",
        "# second model\n",
        "test_predictions_model1 = model1.predict(test_images).flatten()\n",
        "private_predictions_model1 = model1.predict(private_images).flatten()\n",
        "bulk2 = model1.predict(x_train1).flatten()\n",
        "\n",
        "# stack\n",
        "x_train_ensemble = np.vstack([test_predictions_ts, test_predictions_model1]).T\n",
        "x_test_ensemble = np.vstack([private_predictions_ts, private_predictions_model1]).T\n",
        "y_train_ensemble = test_df[[\"tsi_pert_0\"]].values\n",
        "\n",
        "# train\n",
        "from sklearn.linear_model import LinearRegression\n",
        "\n",
        "from sklearn.linear_model import Lasso\n",
        "lasso_model = Lasso(alpha=0.1)  # Alpha controls the regularization strength\n",
        "lasso_model.fit(x_train_ensemble, y_train_ensemble)\n",
        "\n",
        "## meta model predictions\n",
        "test_predictions_ensemble = meta_model.predict(x_train_ensemble)\n",
        "private_predictions_ensemble = meta_model.predict(x_test_ensemble)\n"
      ],
      "metadata": {
        "trusted": true,
        "execution": {
          "iopub.status.busy": "2024-12-01T01:03:37.069034Z",
          "iopub.execute_input": "2024-12-01T01:03:37.070081Z",
          "iopub.status.idle": "2024-12-01T01:03:51.754783Z",
          "shell.execute_reply.started": "2024-12-01T01:03:37.070038Z",
          "shell.execute_reply": "2024-12-01T01:03:51.753215Z"
        },
        "id": "k0-SIyCi8MTv"
      },
      "outputs": [],
      "execution_count": null
    },
    {
      "cell_type": "code",
      "source": [
        "# adding predictions to dfs\n",
        "test_df['tsi_pert_0'] = test_predictions_ensemble\n",
        "private_df['tsi_pert_0'] = private_predictions_ensemble\n",
        "\n",
        "# combining\n",
        "all_predictions = pd.concat([test_df[['index', 'tsi_pert_0']], private_df[['index', 'tsi_pert_0']]])\n",
        "\n",
        "# saving\n",
        "submission_file = \"submission1.csv\"\n",
        "all_predictions.to_csv(submission_file, index=False)"
      ],
      "metadata": {
        "trusted": true,
        "execution": {
          "iopub.status.busy": "2024-12-01T01:08:10.187673Z",
          "iopub.execute_input": "2024-12-01T01:08:10.188073Z",
          "iopub.status.idle": "2024-12-01T01:08:10.199277Z",
          "shell.execute_reply.started": "2024-12-01T01:08:10.188039Z",
          "shell.execute_reply": "2024-12-01T01:08:10.197983Z"
        },
        "id": "N0R9JOKI8MTw"
      },
      "outputs": [],
      "execution_count": null
    }
  ]
}