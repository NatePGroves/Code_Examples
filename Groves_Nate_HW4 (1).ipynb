{
  "nbformat": 4,
  "nbformat_minor": 0,
  "metadata": {
    "colab": {
      "provenance": []
    },
    "kernelspec": {
      "name": "python3",
      "display_name": "Python 3"
    },
    "language_info": {
      "name": "python"
    }
  },
  "cells": [
    {
      "cell_type": "code",
      "execution_count": 2,
      "metadata": {
        "colab": {
          "base_uri": "https://localhost:8080/"
        },
        "id": "o_VazgQFrEP_",
        "outputId": "9f8b764c-fbd9-43eb-9cf1-6ddae3862261"
      },
      "outputs": [
        {
          "output_type": "stream",
          "name": "stdout",
          "text": [
            "Collecting keras_tuner\n",
            "  Downloading keras_tuner-1.4.7-py3-none-any.whl.metadata (5.4 kB)\n",
            "Requirement already satisfied: keras in /usr/local/lib/python3.10/dist-packages (from keras_tuner) (3.5.0)\n",
            "Requirement already satisfied: packaging in /usr/local/lib/python3.10/dist-packages (from keras_tuner) (24.2)\n",
            "Requirement already satisfied: requests in /usr/local/lib/python3.10/dist-packages (from keras_tuner) (2.32.3)\n",
            "Collecting kt-legacy (from keras_tuner)\n",
            "  Downloading kt_legacy-1.0.5-py3-none-any.whl.metadata (221 bytes)\n",
            "Requirement already satisfied: absl-py in /usr/local/lib/python3.10/dist-packages (from keras->keras_tuner) (1.4.0)\n",
            "Requirement already satisfied: numpy in /usr/local/lib/python3.10/dist-packages (from keras->keras_tuner) (1.26.4)\n",
            "Requirement already satisfied: rich in /usr/local/lib/python3.10/dist-packages (from keras->keras_tuner) (13.9.4)\n",
            "Requirement already satisfied: namex in /usr/local/lib/python3.10/dist-packages (from keras->keras_tuner) (0.0.8)\n",
            "Requirement already satisfied: h5py in /usr/local/lib/python3.10/dist-packages (from keras->keras_tuner) (3.12.1)\n",
            "Requirement already satisfied: optree in /usr/local/lib/python3.10/dist-packages (from keras->keras_tuner) (0.13.1)\n",
            "Requirement already satisfied: ml-dtypes in /usr/local/lib/python3.10/dist-packages (from keras->keras_tuner) (0.4.1)\n",
            "Requirement already satisfied: charset-normalizer<4,>=2 in /usr/local/lib/python3.10/dist-packages (from requests->keras_tuner) (3.4.1)\n",
            "Requirement already satisfied: idna<4,>=2.5 in /usr/local/lib/python3.10/dist-packages (from requests->keras_tuner) (3.10)\n",
            "Requirement already satisfied: urllib3<3,>=1.21.1 in /usr/local/lib/python3.10/dist-packages (from requests->keras_tuner) (2.3.0)\n",
            "Requirement already satisfied: certifi>=2017.4.17 in /usr/local/lib/python3.10/dist-packages (from requests->keras_tuner) (2024.12.14)\n",
            "Requirement already satisfied: typing-extensions>=4.5.0 in /usr/local/lib/python3.10/dist-packages (from optree->keras->keras_tuner) (4.12.2)\n",
            "Requirement already satisfied: markdown-it-py>=2.2.0 in /usr/local/lib/python3.10/dist-packages (from rich->keras->keras_tuner) (3.0.0)\n",
            "Requirement already satisfied: pygments<3.0.0,>=2.13.0 in /usr/local/lib/python3.10/dist-packages (from rich->keras->keras_tuner) (2.18.0)\n",
            "Requirement already satisfied: mdurl~=0.1 in /usr/local/lib/python3.10/dist-packages (from markdown-it-py>=2.2.0->rich->keras->keras_tuner) (0.1.2)\n",
            "Downloading keras_tuner-1.4.7-py3-none-any.whl (129 kB)\n",
            "\u001b[2K   \u001b[90m━━━━━━━━━━━━━━━━━━━━━━━━━━━━━━━━━━━━━━━━\u001b[0m \u001b[32m129.1/129.1 kB\u001b[0m \u001b[31m2.5 MB/s\u001b[0m eta \u001b[36m0:00:00\u001b[0m\n",
            "\u001b[?25hDownloading kt_legacy-1.0.5-py3-none-any.whl (9.6 kB)\n",
            "Installing collected packages: kt-legacy, keras_tuner\n",
            "Successfully installed keras_tuner-1.4.7 kt-legacy-1.0.5\n"
          ]
        }
      ],
      "source": [
        "import numpy as np\n",
        "\n",
        "import tensorflow as tf\n",
        "from tensorflow import keras\n",
        "\n",
        "import ssl\n",
        "!pip install keras_tuner\n",
        "import keras_tuner"
      ]
    },
    {
      "cell_type": "markdown",
      "source": [
        "![image.png](data:image/png;base64,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)"
      ],
      "metadata": {
        "id": "1qJ30Ixxrpcg"
      }
    },
    {
      "cell_type": "code",
      "source": [
        "(x_train, y_train), (x_test, y_test) = keras.datasets.cifar10.load_data()"
      ],
      "metadata": {
        "id": "tex_DMHnru6-",
        "colab": {
          "base_uri": "https://localhost:8080/"
        },
        "outputId": "94d96cd3-7f1f-4c5b-b224-f92a0fe5b971"
      },
      "execution_count": null,
      "outputs": [
        {
          "output_type": "stream",
          "name": "stdout",
          "text": [
            "Downloading data from https://www.cs.toronto.edu/~kriz/cifar-10-python.tar.gz\n",
            "\u001b[1m170498071/170498071\u001b[0m \u001b[32m━━━━━━━━━━━━━━━━━━━━\u001b[0m\u001b[37m\u001b[0m \u001b[1m3s\u001b[0m 0us/step\n"
          ]
        }
      ]
    },
    {
      "cell_type": "code",
      "source": [
        "x_train = x_train / 255\n",
        "x_test = x_test / 255"
      ],
      "metadata": {
        "id": "9S4abXqwYr-F"
      },
      "execution_count": null,
      "outputs": []
    },
    {
      "cell_type": "markdown",
      "source": [
        "The above cell normalizes the data so that it can be represented as a fraction of 255."
      ],
      "metadata": {
        "id": "iJr0Tgz8p9iZ"
      }
    },
    {
      "cell_type": "code",
      "source": [
        "MLPmodel = keras.models.Sequential()\n",
        "MLPmodel.add(keras.layers.Flatten(input_shape=[32, 32, 3]))"
      ],
      "metadata": {
        "id": "spgSfoPes5LT",
        "colab": {
          "base_uri": "https://localhost:8080/"
        },
        "outputId": "dc6c2778-c4bb-4a8a-ba07-6095d2b65108"
      },
      "execution_count": null,
      "outputs": [
        {
          "output_type": "stream",
          "name": "stderr",
          "text": [
            "/usr/local/lib/python3.10/dist-packages/keras/src/layers/reshaping/flatten.py:37: UserWarning: Do not pass an `input_shape`/`input_dim` argument to a layer. When using Sequential models, prefer using an `Input(shape)` object as the first layer in the model instead.\n",
            "  super().__init__(**kwargs)\n"
          ]
        }
      ]
    },
    {
      "cell_type": "code",
      "source": [
        "MLPmodel.add(keras.layers.Dense(300, activation=\"relu\"))\n",
        "MLPmodel.add(keras.layers.Dense(200, activation=\"relu\"))\n",
        "MLPmodel.add(keras.layers.Dense(100, activation=\"relu\"))\n",
        "MLPmodel.add(keras.layers.Dense(50, activation=\"relu\"))\n",
        "MLPmodel.add(keras.layers.Dense(10, activation=\"softmax\"))\n",
        "MLPmodel.summary()"
      ],
      "metadata": {
        "colab": {
          "base_uri": "https://localhost:8080/",
          "height": 321
        },
        "id": "VFmCwk8GvHWf",
        "outputId": "3984539d-5a25-420f-b735-9326c3014f55"
      },
      "execution_count": null,
      "outputs": [
        {
          "output_type": "display_data",
          "data": {
            "text/plain": [
              "\u001b[1mModel: \"sequential\"\u001b[0m\n"
            ],
            "text/html": [
              "<pre style=\"white-space:pre;overflow-x:auto;line-height:normal;font-family:Menlo,'DejaVu Sans Mono',consolas,'Courier New',monospace\"><span style=\"font-weight: bold\">Model: \"sequential\"</span>\n",
              "</pre>\n"
            ]
          },
          "metadata": {}
        },
        {
          "output_type": "display_data",
          "data": {
            "text/plain": [
              "┏━━━━━━━━━━━━━━━━━━━━━━━━━━━━━━━━━━━━━━┳━━━━━━━━━━━━━━━━━━━━━━━━━━━━━┳━━━━━━━━━━━━━━━━━┓\n",
              "┃\u001b[1m \u001b[0m\u001b[1mLayer (type)                        \u001b[0m\u001b[1m \u001b[0m┃\u001b[1m \u001b[0m\u001b[1mOutput Shape               \u001b[0m\u001b[1m \u001b[0m┃\u001b[1m \u001b[0m\u001b[1m        Param #\u001b[0m\u001b[1m \u001b[0m┃\n",
              "┡━━━━━━━━━━━━━━━━━━━━━━━━━━━━━━━━━━━━━━╇━━━━━━━━━━━━━━━━━━━━━━━━━━━━━╇━━━━━━━━━━━━━━━━━┩\n",
              "│ flatten (\u001b[38;5;33mFlatten\u001b[0m)                    │ (\u001b[38;5;45mNone\u001b[0m, \u001b[38;5;34m3072\u001b[0m)                │               \u001b[38;5;34m0\u001b[0m │\n",
              "├──────────────────────────────────────┼─────────────────────────────┼─────────────────┤\n",
              "│ dense (\u001b[38;5;33mDense\u001b[0m)                        │ (\u001b[38;5;45mNone\u001b[0m, \u001b[38;5;34m300\u001b[0m)                 │         \u001b[38;5;34m921,900\u001b[0m │\n",
              "├──────────────────────────────────────┼─────────────────────────────┼─────────────────┤\n",
              "│ dense_1 (\u001b[38;5;33mDense\u001b[0m)                      │ (\u001b[38;5;45mNone\u001b[0m, \u001b[38;5;34m200\u001b[0m)                 │          \u001b[38;5;34m60,200\u001b[0m │\n",
              "├──────────────────────────────────────┼─────────────────────────────┼─────────────────┤\n",
              "│ dense_2 (\u001b[38;5;33mDense\u001b[0m)                      │ (\u001b[38;5;45mNone\u001b[0m, \u001b[38;5;34m100\u001b[0m)                 │          \u001b[38;5;34m20,100\u001b[0m │\n",
              "├──────────────────────────────────────┼─────────────────────────────┼─────────────────┤\n",
              "│ dense_3 (\u001b[38;5;33mDense\u001b[0m)                      │ (\u001b[38;5;45mNone\u001b[0m, \u001b[38;5;34m50\u001b[0m)                  │           \u001b[38;5;34m5,050\u001b[0m │\n",
              "├──────────────────────────────────────┼─────────────────────────────┼─────────────────┤\n",
              "│ dense_4 (\u001b[38;5;33mDense\u001b[0m)                      │ (\u001b[38;5;45mNone\u001b[0m, \u001b[38;5;34m10\u001b[0m)                  │             \u001b[38;5;34m510\u001b[0m │\n",
              "└──────────────────────────────────────┴─────────────────────────────┴─────────────────┘\n"
            ],
            "text/html": [
              "<pre style=\"white-space:pre;overflow-x:auto;line-height:normal;font-family:Menlo,'DejaVu Sans Mono',consolas,'Courier New',monospace\">┏━━━━━━━━━━━━━━━━━━━━━━━━━━━━━━━━━━━━━━┳━━━━━━━━━━━━━━━━━━━━━━━━━━━━━┳━━━━━━━━━━━━━━━━━┓\n",
              "┃<span style=\"font-weight: bold\"> Layer (type)                         </span>┃<span style=\"font-weight: bold\"> Output Shape                </span>┃<span style=\"font-weight: bold\">         Param # </span>┃\n",
              "┡━━━━━━━━━━━━━━━━━━━━━━━━━━━━━━━━━━━━━━╇━━━━━━━━━━━━━━━━━━━━━━━━━━━━━╇━━━━━━━━━━━━━━━━━┩\n",
              "│ flatten (<span style=\"color: #0087ff; text-decoration-color: #0087ff\">Flatten</span>)                    │ (<span style=\"color: #00d7ff; text-decoration-color: #00d7ff\">None</span>, <span style=\"color: #00af00; text-decoration-color: #00af00\">3072</span>)                │               <span style=\"color: #00af00; text-decoration-color: #00af00\">0</span> │\n",
              "├──────────────────────────────────────┼─────────────────────────────┼─────────────────┤\n",
              "│ dense (<span style=\"color: #0087ff; text-decoration-color: #0087ff\">Dense</span>)                        │ (<span style=\"color: #00d7ff; text-decoration-color: #00d7ff\">None</span>, <span style=\"color: #00af00; text-decoration-color: #00af00\">300</span>)                 │         <span style=\"color: #00af00; text-decoration-color: #00af00\">921,900</span> │\n",
              "├──────────────────────────────────────┼─────────────────────────────┼─────────────────┤\n",
              "│ dense_1 (<span style=\"color: #0087ff; text-decoration-color: #0087ff\">Dense</span>)                      │ (<span style=\"color: #00d7ff; text-decoration-color: #00d7ff\">None</span>, <span style=\"color: #00af00; text-decoration-color: #00af00\">200</span>)                 │          <span style=\"color: #00af00; text-decoration-color: #00af00\">60,200</span> │\n",
              "├──────────────────────────────────────┼─────────────────────────────┼─────────────────┤\n",
              "│ dense_2 (<span style=\"color: #0087ff; text-decoration-color: #0087ff\">Dense</span>)                      │ (<span style=\"color: #00d7ff; text-decoration-color: #00d7ff\">None</span>, <span style=\"color: #00af00; text-decoration-color: #00af00\">100</span>)                 │          <span style=\"color: #00af00; text-decoration-color: #00af00\">20,100</span> │\n",
              "├──────────────────────────────────────┼─────────────────────────────┼─────────────────┤\n",
              "│ dense_3 (<span style=\"color: #0087ff; text-decoration-color: #0087ff\">Dense</span>)                      │ (<span style=\"color: #00d7ff; text-decoration-color: #00d7ff\">None</span>, <span style=\"color: #00af00; text-decoration-color: #00af00\">50</span>)                  │           <span style=\"color: #00af00; text-decoration-color: #00af00\">5,050</span> │\n",
              "├──────────────────────────────────────┼─────────────────────────────┼─────────────────┤\n",
              "│ dense_4 (<span style=\"color: #0087ff; text-decoration-color: #0087ff\">Dense</span>)                      │ (<span style=\"color: #00d7ff; text-decoration-color: #00d7ff\">None</span>, <span style=\"color: #00af00; text-decoration-color: #00af00\">10</span>)                  │             <span style=\"color: #00af00; text-decoration-color: #00af00\">510</span> │\n",
              "└──────────────────────────────────────┴─────────────────────────────┴─────────────────┘\n",
              "</pre>\n"
            ]
          },
          "metadata": {}
        },
        {
          "output_type": "display_data",
          "data": {
            "text/plain": [
              "\u001b[1m Total params: \u001b[0m\u001b[38;5;34m1,007,760\u001b[0m (3.84 MB)\n"
            ],
            "text/html": [
              "<pre style=\"white-space:pre;overflow-x:auto;line-height:normal;font-family:Menlo,'DejaVu Sans Mono',consolas,'Courier New',monospace\"><span style=\"font-weight: bold\"> Total params: </span><span style=\"color: #00af00; text-decoration-color: #00af00\">1,007,760</span> (3.84 MB)\n",
              "</pre>\n"
            ]
          },
          "metadata": {}
        },
        {
          "output_type": "display_data",
          "data": {
            "text/plain": [
              "\u001b[1m Trainable params: \u001b[0m\u001b[38;5;34m1,007,760\u001b[0m (3.84 MB)\n"
            ],
            "text/html": [
              "<pre style=\"white-space:pre;overflow-x:auto;line-height:normal;font-family:Menlo,'DejaVu Sans Mono',consolas,'Courier New',monospace\"><span style=\"font-weight: bold\"> Trainable params: </span><span style=\"color: #00af00; text-decoration-color: #00af00\">1,007,760</span> (3.84 MB)\n",
              "</pre>\n"
            ]
          },
          "metadata": {}
        },
        {
          "output_type": "display_data",
          "data": {
            "text/plain": [
              "\u001b[1m Non-trainable params: \u001b[0m\u001b[38;5;34m0\u001b[0m (0.00 B)\n"
            ],
            "text/html": [
              "<pre style=\"white-space:pre;overflow-x:auto;line-height:normal;font-family:Menlo,'DejaVu Sans Mono',consolas,'Courier New',monospace\"><span style=\"font-weight: bold\"> Non-trainable params: </span><span style=\"color: #00af00; text-decoration-color: #00af00\">0</span> (0.00 B)\n",
              "</pre>\n"
            ]
          },
          "metadata": {}
        }
      ]
    },
    {
      "cell_type": "code",
      "source": [
        "MLPmodel.compile(optimizer='adam', loss='sparse_categorical_crossentropy',\n",
        "                 metrics=['accuracy'])"
      ],
      "metadata": {
        "id": "vr__iaKTvi-N"
      },
      "execution_count": null,
      "outputs": []
    },
    {
      "cell_type": "code",
      "source": [
        "MLPhistory = MLPmodel.fit(x_train, y_train, epochs=10, validation_split = .1,\n",
        "                          batch_size = 64)"
      ],
      "metadata": {
        "colab": {
          "base_uri": "https://localhost:8080/"
        },
        "id": "15UBgFCXvlsw",
        "outputId": "8099854e-829b-43fc-f322-043df7998e6b"
      },
      "execution_count": null,
      "outputs": [
        {
          "output_type": "stream",
          "name": "stdout",
          "text": [
            "Epoch 1/10\n",
            "\u001b[1m704/704\u001b[0m \u001b[32m━━━━━━━━━━━━━━━━━━━━\u001b[0m\u001b[37m\u001b[0m \u001b[1m14s\u001b[0m 7ms/step - accuracy: 0.2433 - loss: 2.0418 - val_accuracy: 0.3380 - val_loss: 1.8063\n",
            "Epoch 2/10\n",
            "\u001b[1m704/704\u001b[0m \u001b[32m━━━━━━━━━━━━━━━━━━━━\u001b[0m\u001b[37m\u001b[0m \u001b[1m3s\u001b[0m 3ms/step - accuracy: 0.3623 - loss: 1.7545 - val_accuracy: 0.3912 - val_loss: 1.6692\n",
            "Epoch 3/10\n",
            "\u001b[1m704/704\u001b[0m \u001b[32m━━━━━━━━━━━━━━━━━━━━\u001b[0m\u001b[37m\u001b[0m \u001b[1m2s\u001b[0m 3ms/step - accuracy: 0.4089 - loss: 1.6483 - val_accuracy: 0.3974 - val_loss: 1.6628\n",
            "Epoch 4/10\n",
            "\u001b[1m704/704\u001b[0m \u001b[32m━━━━━━━━━━━━━━━━━━━━\u001b[0m\u001b[37m\u001b[0m \u001b[1m3s\u001b[0m 2ms/step - accuracy: 0.4391 - loss: 1.5736 - val_accuracy: 0.4142 - val_loss: 1.6137\n",
            "Epoch 5/10\n",
            "\u001b[1m704/704\u001b[0m \u001b[32m━━━━━━━━━━━━━━━━━━━━\u001b[0m\u001b[37m\u001b[0m \u001b[1m2s\u001b[0m 2ms/step - accuracy: 0.4490 - loss: 1.5343 - val_accuracy: 0.4488 - val_loss: 1.5466\n",
            "Epoch 6/10\n",
            "\u001b[1m704/704\u001b[0m \u001b[32m━━━━━━━━━━━━━━━━━━━━\u001b[0m\u001b[37m\u001b[0m \u001b[1m2s\u001b[0m 2ms/step - accuracy: 0.4603 - loss: 1.5030 - val_accuracy: 0.4590 - val_loss: 1.5031\n",
            "Epoch 7/10\n",
            "\u001b[1m704/704\u001b[0m \u001b[32m━━━━━━━━━━━━━━━━━━━━\u001b[0m\u001b[37m\u001b[0m \u001b[1m3s\u001b[0m 3ms/step - accuracy: 0.4788 - loss: 1.4627 - val_accuracy: 0.4664 - val_loss: 1.5016\n",
            "Epoch 8/10\n",
            "\u001b[1m704/704\u001b[0m \u001b[32m━━━━━━━━━━━━━━━━━━━━\u001b[0m\u001b[37m\u001b[0m \u001b[1m2s\u001b[0m 3ms/step - accuracy: 0.4897 - loss: 1.4309 - val_accuracy: 0.4600 - val_loss: 1.5285\n",
            "Epoch 9/10\n",
            "\u001b[1m704/704\u001b[0m \u001b[32m━━━━━━━━━━━━━━━━━━━━\u001b[0m\u001b[37m\u001b[0m \u001b[1m2s\u001b[0m 3ms/step - accuracy: 0.4957 - loss: 1.4175 - val_accuracy: 0.4614 - val_loss: 1.4908\n",
            "Epoch 10/10\n",
            "\u001b[1m704/704\u001b[0m \u001b[32m━━━━━━━━━━━━━━━━━━━━\u001b[0m\u001b[37m\u001b[0m \u001b[1m3s\u001b[0m 3ms/step - accuracy: 0.5067 - loss: 1.3841 - val_accuracy: 0.4796 - val_loss: 1.4777\n"
          ]
        }
      ]
    },
    {
      "cell_type": "code",
      "source": [
        "MLPmodel.evaluate(x_test, y_test, return_dict=True)"
      ],
      "metadata": {
        "colab": {
          "base_uri": "https://localhost:8080/"
        },
        "id": "oGbQGQvjwGcy",
        "outputId": "a0a359ec-0ed1-4e77-ee56-aa8040521cf8"
      },
      "execution_count": null,
      "outputs": [
        {
          "output_type": "stream",
          "name": "stdout",
          "text": [
            "\u001b[1m313/313\u001b[0m \u001b[32m━━━━━━━━━━━━━━━━━━━━\u001b[0m\u001b[37m\u001b[0m \u001b[1m2s\u001b[0m 3ms/step - accuracy: 0.4834 - loss: 1.4623\n"
          ]
        },
        {
          "output_type": "execute_result",
          "data": {
            "text/plain": [
              "{'accuracy': 0.48019999265670776, 'loss': 1.4674791097640991}"
            ]
          },
          "metadata": {},
          "execution_count": 10
        }
      ]
    },
    {
      "cell_type": "markdown",
      "source": [
        "This was my first attempt to create the model, with accuracy of 48.02% and a loss of 1.467s"
      ],
      "metadata": {
        "id": "ArUEq7pBqOOu"
      }
    },
    {
      "cell_type": "markdown",
      "source": [
        "\n",
        "*   Attempt 1: 2 RELU Layers, ADAM Optimizer, Metrics: accuracy: 0.\n",
        "4763999879360199, loss: 1.468599557876587\n",
        "\n"
      ],
      "metadata": {
        "id": "2kwzKywXZ7bt"
      }
    },
    {
      "cell_type": "code",
      "source": [
        "def buildMLPModel(hp):\n",
        "  model = keras.models.Sequential()\n",
        "  model.add(keras.layers.Flatten(input_shape=[32, 32, 3]))\n",
        "  for i in range(hp.Int('num_layers', 2, 10)):\n",
        "    model.add(keras.layers.Dense(hp.Int('units_' + str(i), 50, 300),\n",
        "                                 activation='relu'))\n",
        "  model.add(keras.layers.Dense(10, activation='softmax'))\n",
        "  model.compile(optimizer=keras.optimizers.Adam(\n",
        "            hp.Choice('learning_rate', [1e-2, 1e-3, 1e-4])),\n",
        "                      loss='sparse_categorical_crossentropy',\n",
        "                      metrics=['accuracy'])\n",
        "  return model\n",
        "tuner = keras_tuner.RandomSearch(\n",
        "    buildMLPModel,\n",
        "    objective='val_loss',\n",
        "    max_trials=100)\n",
        "tuner.search(x_train, y_train, epochs=10, validation_split=0.1)\n",
        "best_hps = tuner.get_best_hyperparameters(num_trials=1)[0]\n",
        "best_hps.values"
      ],
      "metadata": {
        "colab": {
          "base_uri": "https://localhost:8080/"
        },
        "id": "kcammpgwL0vU",
        "outputId": "60cb049d-f31f-4dba-a747-04f9b6fe2225"
      },
      "execution_count": null,
      "outputs": [
        {
          "output_type": "stream",
          "name": "stdout",
          "text": [
            "Trial 100 Complete [00h 00m 51s]\n",
            "val_loss: 1.9157522916793823\n",
            "\n",
            "Best val_loss So Far: 1.3949477672576904\n",
            "Total elapsed time: 01h 46m 20s\n"
          ]
        },
        {
          "output_type": "execute_result",
          "data": {
            "text/plain": [
              "{'num_layers': 2,\n",
              " 'units_0': 260,\n",
              " 'units_1': 281,\n",
              " 'learning_rate': 0.0001,\n",
              " 'units_2': 91,\n",
              " 'units_3': 198,\n",
              " 'units_4': 251,\n",
              " 'units_5': 142,\n",
              " 'units_6': 70,\n",
              " 'units_7': 201,\n",
              " 'units_8': 149,\n",
              " 'units_9': 237}"
            ]
          },
          "metadata": {},
          "execution_count": 13
        }
      ]
    },
    {
      "cell_type": "markdown",
      "source": [
        "This was my hyperparameter tuning, I ran 100 trials of the training to get the best possible model based on number of hidden layers, the number of nodes in each layer, the learning rate. This returned the best possible model based on the validation loss of the model."
      ],
      "metadata": {
        "id": "cfWRJ5g-ql1s"
      }
    },
    {
      "cell_type": "code",
      "source": [
        "improvedMLP  = buildMLPModel(best_hps)\n",
        "improvedMLP.summary()\n",
        "improvedMLP.compile(optimizer=keras.optimizers.Adam(0.0001),\n",
        "                    loss='sparse_categorical_crossentropy',\n",
        "                 metrics=['accuracy'])\n",
        "improvedMLPhistory = improvedMLP.fit(x_train, y_train, epochs=10,\n",
        "                                     validation_split = .1, batch_size = 64)\n",
        "improvedMLP.evaluate(x_test, y_test, return_dict=True)"
      ],
      "metadata": {
        "colab": {
          "base_uri": "https://localhost:8080/",
          "height": 639
        },
        "id": "4nWFYrWxbWBY",
        "outputId": "ce52fec0-b0ae-43df-f0eb-b2f78644589e"
      },
      "execution_count": null,
      "outputs": [
        {
          "output_type": "display_data",
          "data": {
            "text/plain": [
              "\u001b[1mModel: \"sequential_2\"\u001b[0m\n"
            ],
            "text/html": [
              "<pre style=\"white-space:pre;overflow-x:auto;line-height:normal;font-family:Menlo,'DejaVu Sans Mono',consolas,'Courier New',monospace\"><span style=\"font-weight: bold\">Model: \"sequential_2\"</span>\n",
              "</pre>\n"
            ]
          },
          "metadata": {}
        },
        {
          "output_type": "display_data",
          "data": {
            "text/plain": [
              "┏━━━━━━━━━━━━━━━━━━━━━━━━━━━━━━━━━━━━━━┳━━━━━━━━━━━━━━━━━━━━━━━━━━━━━┳━━━━━━━━━━━━━━━━━┓\n",
              "┃\u001b[1m \u001b[0m\u001b[1mLayer (type)                        \u001b[0m\u001b[1m \u001b[0m┃\u001b[1m \u001b[0m\u001b[1mOutput Shape               \u001b[0m\u001b[1m \u001b[0m┃\u001b[1m \u001b[0m\u001b[1m        Param #\u001b[0m\u001b[1m \u001b[0m┃\n",
              "┡━━━━━━━━━━━━━━━━━━━━━━━━━━━━━━━━━━━━━━╇━━━━━━━━━━━━━━━━━━━━━━━━━━━━━╇━━━━━━━━━━━━━━━━━┩\n",
              "│ flatten_2 (\u001b[38;5;33mFlatten\u001b[0m)                  │ (\u001b[38;5;45mNone\u001b[0m, \u001b[38;5;34m3072\u001b[0m)                │               \u001b[38;5;34m0\u001b[0m │\n",
              "├──────────────────────────────────────┼─────────────────────────────┼─────────────────┤\n",
              "│ dense_7 (\u001b[38;5;33mDense\u001b[0m)                      │ (\u001b[38;5;45mNone\u001b[0m, \u001b[38;5;34m260\u001b[0m)                 │         \u001b[38;5;34m798,980\u001b[0m │\n",
              "├──────────────────────────────────────┼─────────────────────────────┼─────────────────┤\n",
              "│ dense_8 (\u001b[38;5;33mDense\u001b[0m)                      │ (\u001b[38;5;45mNone\u001b[0m, \u001b[38;5;34m281\u001b[0m)                 │          \u001b[38;5;34m73,341\u001b[0m │\n",
              "├──────────────────────────────────────┼─────────────────────────────┼─────────────────┤\n",
              "│ dense_9 (\u001b[38;5;33mDense\u001b[0m)                      │ (\u001b[38;5;45mNone\u001b[0m, \u001b[38;5;34m10\u001b[0m)                  │           \u001b[38;5;34m2,820\u001b[0m │\n",
              "└──────────────────────────────────────┴─────────────────────────────┴─────────────────┘\n"
            ],
            "text/html": [
              "<pre style=\"white-space:pre;overflow-x:auto;line-height:normal;font-family:Menlo,'DejaVu Sans Mono',consolas,'Courier New',monospace\">┏━━━━━━━━━━━━━━━━━━━━━━━━━━━━━━━━━━━━━━┳━━━━━━━━━━━━━━━━━━━━━━━━━━━━━┳━━━━━━━━━━━━━━━━━┓\n",
              "┃<span style=\"font-weight: bold\"> Layer (type)                         </span>┃<span style=\"font-weight: bold\"> Output Shape                </span>┃<span style=\"font-weight: bold\">         Param # </span>┃\n",
              "┡━━━━━━━━━━━━━━━━━━━━━━━━━━━━━━━━━━━━━━╇━━━━━━━━━━━━━━━━━━━━━━━━━━━━━╇━━━━━━━━━━━━━━━━━┩\n",
              "│ flatten_2 (<span style=\"color: #0087ff; text-decoration-color: #0087ff\">Flatten</span>)                  │ (<span style=\"color: #00d7ff; text-decoration-color: #00d7ff\">None</span>, <span style=\"color: #00af00; text-decoration-color: #00af00\">3072</span>)                │               <span style=\"color: #00af00; text-decoration-color: #00af00\">0</span> │\n",
              "├──────────────────────────────────────┼─────────────────────────────┼─────────────────┤\n",
              "│ dense_7 (<span style=\"color: #0087ff; text-decoration-color: #0087ff\">Dense</span>)                      │ (<span style=\"color: #00d7ff; text-decoration-color: #00d7ff\">None</span>, <span style=\"color: #00af00; text-decoration-color: #00af00\">260</span>)                 │         <span style=\"color: #00af00; text-decoration-color: #00af00\">798,980</span> │\n",
              "├──────────────────────────────────────┼─────────────────────────────┼─────────────────┤\n",
              "│ dense_8 (<span style=\"color: #0087ff; text-decoration-color: #0087ff\">Dense</span>)                      │ (<span style=\"color: #00d7ff; text-decoration-color: #00d7ff\">None</span>, <span style=\"color: #00af00; text-decoration-color: #00af00\">281</span>)                 │          <span style=\"color: #00af00; text-decoration-color: #00af00\">73,341</span> │\n",
              "├──────────────────────────────────────┼─────────────────────────────┼─────────────────┤\n",
              "│ dense_9 (<span style=\"color: #0087ff; text-decoration-color: #0087ff\">Dense</span>)                      │ (<span style=\"color: #00d7ff; text-decoration-color: #00d7ff\">None</span>, <span style=\"color: #00af00; text-decoration-color: #00af00\">10</span>)                  │           <span style=\"color: #00af00; text-decoration-color: #00af00\">2,820</span> │\n",
              "└──────────────────────────────────────┴─────────────────────────────┴─────────────────┘\n",
              "</pre>\n"
            ]
          },
          "metadata": {}
        },
        {
          "output_type": "display_data",
          "data": {
            "text/plain": [
              "\u001b[1m Total params: \u001b[0m\u001b[38;5;34m875,141\u001b[0m (3.34 MB)\n"
            ],
            "text/html": [
              "<pre style=\"white-space:pre;overflow-x:auto;line-height:normal;font-family:Menlo,'DejaVu Sans Mono',consolas,'Courier New',monospace\"><span style=\"font-weight: bold\"> Total params: </span><span style=\"color: #00af00; text-decoration-color: #00af00\">875,141</span> (3.34 MB)\n",
              "</pre>\n"
            ]
          },
          "metadata": {}
        },
        {
          "output_type": "display_data",
          "data": {
            "text/plain": [
              "\u001b[1m Trainable params: \u001b[0m\u001b[38;5;34m875,141\u001b[0m (3.34 MB)\n"
            ],
            "text/html": [
              "<pre style=\"white-space:pre;overflow-x:auto;line-height:normal;font-family:Menlo,'DejaVu Sans Mono',consolas,'Courier New',monospace\"><span style=\"font-weight: bold\"> Trainable params: </span><span style=\"color: #00af00; text-decoration-color: #00af00\">875,141</span> (3.34 MB)\n",
              "</pre>\n"
            ]
          },
          "metadata": {}
        },
        {
          "output_type": "display_data",
          "data": {
            "text/plain": [
              "\u001b[1m Non-trainable params: \u001b[0m\u001b[38;5;34m0\u001b[0m (0.00 B)\n"
            ],
            "text/html": [
              "<pre style=\"white-space:pre;overflow-x:auto;line-height:normal;font-family:Menlo,'DejaVu Sans Mono',consolas,'Courier New',monospace\"><span style=\"font-weight: bold\"> Non-trainable params: </span><span style=\"color: #00af00; text-decoration-color: #00af00\">0</span> (0.00 B)\n",
              "</pre>\n"
            ]
          },
          "metadata": {}
        },
        {
          "output_type": "stream",
          "name": "stdout",
          "text": [
            "Epoch 1/10\n",
            "\u001b[1m704/704\u001b[0m \u001b[32m━━━━━━━━━━━━━━━━━━━━\u001b[0m\u001b[37m\u001b[0m \u001b[1m4s\u001b[0m 4ms/step - accuracy: 0.2878 - loss: 1.9859 - val_accuracy: 0.3758 - val_loss: 1.7527\n",
            "Epoch 2/10\n",
            "\u001b[1m704/704\u001b[0m \u001b[32m━━━━━━━━━━━━━━━━━━━━\u001b[0m\u001b[37m\u001b[0m \u001b[1m3s\u001b[0m 2ms/step - accuracy: 0.3944 - loss: 1.7184 - val_accuracy: 0.4108 - val_loss: 1.6835\n",
            "Epoch 3/10\n",
            "\u001b[1m704/704\u001b[0m \u001b[32m━━━━━━━━━━━━━━━━━━━━\u001b[0m\u001b[37m\u001b[0m \u001b[1m3s\u001b[0m 3ms/step - accuracy: 0.4302 - loss: 1.6263 - val_accuracy: 0.4306 - val_loss: 1.6054\n",
            "Epoch 4/10\n",
            "\u001b[1m704/704\u001b[0m \u001b[32m━━━━━━━━━━━━━━━━━━━━\u001b[0m\u001b[37m\u001b[0m \u001b[1m2s\u001b[0m 2ms/step - accuracy: 0.4489 - loss: 1.5603 - val_accuracy: 0.4336 - val_loss: 1.6071\n",
            "Epoch 5/10\n",
            "\u001b[1m704/704\u001b[0m \u001b[32m━━━━━━━━━━━━━━━━━━━━\u001b[0m\u001b[37m\u001b[0m \u001b[1m2s\u001b[0m 2ms/step - accuracy: 0.4638 - loss: 1.5181 - val_accuracy: 0.4438 - val_loss: 1.5758\n",
            "Epoch 6/10\n",
            "\u001b[1m704/704\u001b[0m \u001b[32m━━━━━━━━━━━━━━━━━━━━\u001b[0m\u001b[37m\u001b[0m \u001b[1m2s\u001b[0m 2ms/step - accuracy: 0.4760 - loss: 1.4862 - val_accuracy: 0.4702 - val_loss: 1.4921\n",
            "Epoch 7/10\n",
            "\u001b[1m704/704\u001b[0m \u001b[32m━━━━━━━━━━━━━━━━━━━━\u001b[0m\u001b[37m\u001b[0m \u001b[1m2s\u001b[0m 2ms/step - accuracy: 0.4931 - loss: 1.4487 - val_accuracy: 0.4718 - val_loss: 1.5078\n",
            "Epoch 8/10\n",
            "\u001b[1m704/704\u001b[0m \u001b[32m━━━━━━━━━━━━━━━━━━━━\u001b[0m\u001b[37m\u001b[0m \u001b[1m2s\u001b[0m 2ms/step - accuracy: 0.4995 - loss: 1.4204 - val_accuracy: 0.4660 - val_loss: 1.4911\n",
            "Epoch 9/10\n",
            "\u001b[1m704/704\u001b[0m \u001b[32m━━━━━━━━━━━━━━━━━━━━\u001b[0m\u001b[37m\u001b[0m \u001b[1m3s\u001b[0m 3ms/step - accuracy: 0.5075 - loss: 1.3960 - val_accuracy: 0.4830 - val_loss: 1.4808\n",
            "Epoch 10/10\n",
            "\u001b[1m704/704\u001b[0m \u001b[32m━━━━━━━━━━━━━━━━━━━━\u001b[0m\u001b[37m\u001b[0m \u001b[1m2s\u001b[0m 3ms/step - accuracy: 0.5175 - loss: 1.3760 - val_accuracy: 0.4886 - val_loss: 1.4586\n",
            "\u001b[1m313/313\u001b[0m \u001b[32m━━━━━━━━━━━━━━━━━━━━\u001b[0m\u001b[37m\u001b[0m \u001b[1m1s\u001b[0m 2ms/step - accuracy: 0.4964 - loss: 1.4390\n"
          ]
        },
        {
          "output_type": "execute_result",
          "data": {
            "text/plain": [
              "{'accuracy': 0.4860999882221222, 'loss': 1.4499258995056152}"
            ]
          },
          "metadata": {},
          "execution_count": 15
        }
      ]
    },
    {
      "cell_type": "markdown",
      "source": [
        "The best results I have been able to get have been to use 2 layers, 260 nodes in the first hidden layer, then 281 nodes in a second hidden layer. I have only been able to get to 49% accuracy with the MLP model. To improve the model with more time, I could consider using a different activation function, or having the tuner target validation accuracy instead of minimizing validation loss."
      ],
      "metadata": {
        "id": "l7v1_AWoZYuV"
      }
    },
    {
      "cell_type": "code",
      "source": [
        "CNNmodel = keras.models.Sequential()\n",
        "CNNmodel.add(keras.layers.Conv2D(32, (3,3), activation='relu', input_shape=(32,32,3)))\n",
        "CNNmodel.add(keras.layers.MaxPooling2D((2,2)))\n",
        "CNNmodel.add(keras.layers.Conv2D(64, (3,3), activation='relu'))\n",
        "CNNmodel.add(keras.layers.MaxPooling2D((2,2)))\n",
        "CNNmodel.add(keras.layers.Flatten())\n",
        "CNNmodel.add(keras.layers.Dense(128, activation='relu'))\n",
        "CNNmodel.add(keras.layers.Dense(10, activation='softmax'))\n",
        "CNNmodel.summary()"
      ],
      "metadata": {
        "colab": {
          "base_uri": "https://localhost:8080/",
          "height": 408
        },
        "id": "nmQ6WNNW0KhJ",
        "outputId": "1531c06f-e802-4ff6-b200-9935bf0926d5"
      },
      "execution_count": null,
      "outputs": [
        {
          "output_type": "stream",
          "name": "stderr",
          "text": [
            "/usr/local/lib/python3.10/dist-packages/keras/src/layers/convolutional/base_conv.py:107: UserWarning: Do not pass an `input_shape`/`input_dim` argument to a layer. When using Sequential models, prefer using an `Input(shape)` object as the first layer in the model instead.\n",
            "  super().__init__(activity_regularizer=activity_regularizer, **kwargs)\n"
          ]
        },
        {
          "output_type": "display_data",
          "data": {
            "text/plain": [
              "\u001b[1mModel: \"sequential_3\"\u001b[0m\n"
            ],
            "text/html": [
              "<pre style=\"white-space:pre;overflow-x:auto;line-height:normal;font-family:Menlo,'DejaVu Sans Mono',consolas,'Courier New',monospace\"><span style=\"font-weight: bold\">Model: \"sequential_3\"</span>\n",
              "</pre>\n"
            ]
          },
          "metadata": {}
        },
        {
          "output_type": "display_data",
          "data": {
            "text/plain": [
              "┏━━━━━━━━━━━━━━━━━━━━━━━━━━━━━━━━━━━━━━┳━━━━━━━━━━━━━━━━━━━━━━━━━━━━━┳━━━━━━━━━━━━━━━━━┓\n",
              "┃\u001b[1m \u001b[0m\u001b[1mLayer (type)                        \u001b[0m\u001b[1m \u001b[0m┃\u001b[1m \u001b[0m\u001b[1mOutput Shape               \u001b[0m\u001b[1m \u001b[0m┃\u001b[1m \u001b[0m\u001b[1m        Param #\u001b[0m\u001b[1m \u001b[0m┃\n",
              "┡━━━━━━━━━━━━━━━━━━━━━━━━━━━━━━━━━━━━━━╇━━━━━━━━━━━━━━━━━━━━━━━━━━━━━╇━━━━━━━━━━━━━━━━━┩\n",
              "│ conv2d (\u001b[38;5;33mConv2D\u001b[0m)                      │ (\u001b[38;5;45mNone\u001b[0m, \u001b[38;5;34m30\u001b[0m, \u001b[38;5;34m30\u001b[0m, \u001b[38;5;34m32\u001b[0m)          │             \u001b[38;5;34m896\u001b[0m │\n",
              "├──────────────────────────────────────┼─────────────────────────────┼─────────────────┤\n",
              "│ max_pooling2d (\u001b[38;5;33mMaxPooling2D\u001b[0m)         │ (\u001b[38;5;45mNone\u001b[0m, \u001b[38;5;34m15\u001b[0m, \u001b[38;5;34m15\u001b[0m, \u001b[38;5;34m32\u001b[0m)          │               \u001b[38;5;34m0\u001b[0m │\n",
              "├──────────────────────────────────────┼─────────────────────────────┼─────────────────┤\n",
              "│ conv2d_1 (\u001b[38;5;33mConv2D\u001b[0m)                    │ (\u001b[38;5;45mNone\u001b[0m, \u001b[38;5;34m13\u001b[0m, \u001b[38;5;34m13\u001b[0m, \u001b[38;5;34m64\u001b[0m)          │          \u001b[38;5;34m18,496\u001b[0m │\n",
              "├──────────────────────────────────────┼─────────────────────────────┼─────────────────┤\n",
              "│ max_pooling2d_1 (\u001b[38;5;33mMaxPooling2D\u001b[0m)       │ (\u001b[38;5;45mNone\u001b[0m, \u001b[38;5;34m6\u001b[0m, \u001b[38;5;34m6\u001b[0m, \u001b[38;5;34m64\u001b[0m)            │               \u001b[38;5;34m0\u001b[0m │\n",
              "├──────────────────────────────────────┼─────────────────────────────┼─────────────────┤\n",
              "│ flatten_3 (\u001b[38;5;33mFlatten\u001b[0m)                  │ (\u001b[38;5;45mNone\u001b[0m, \u001b[38;5;34m2304\u001b[0m)                │               \u001b[38;5;34m0\u001b[0m │\n",
              "├──────────────────────────────────────┼─────────────────────────────┼─────────────────┤\n",
              "│ dense_10 (\u001b[38;5;33mDense\u001b[0m)                     │ (\u001b[38;5;45mNone\u001b[0m, \u001b[38;5;34m128\u001b[0m)                 │         \u001b[38;5;34m295,040\u001b[0m │\n",
              "├──────────────────────────────────────┼─────────────────────────────┼─────────────────┤\n",
              "│ dense_11 (\u001b[38;5;33mDense\u001b[0m)                     │ (\u001b[38;5;45mNone\u001b[0m, \u001b[38;5;34m10\u001b[0m)                  │           \u001b[38;5;34m1,290\u001b[0m │\n",
              "└──────────────────────────────────────┴─────────────────────────────┴─────────────────┘\n"
            ],
            "text/html": [
              "<pre style=\"white-space:pre;overflow-x:auto;line-height:normal;font-family:Menlo,'DejaVu Sans Mono',consolas,'Courier New',monospace\">┏━━━━━━━━━━━━━━━━━━━━━━━━━━━━━━━━━━━━━━┳━━━━━━━━━━━━━━━━━━━━━━━━━━━━━┳━━━━━━━━━━━━━━━━━┓\n",
              "┃<span style=\"font-weight: bold\"> Layer (type)                         </span>┃<span style=\"font-weight: bold\"> Output Shape                </span>┃<span style=\"font-weight: bold\">         Param # </span>┃\n",
              "┡━━━━━━━━━━━━━━━━━━━━━━━━━━━━━━━━━━━━━━╇━━━━━━━━━━━━━━━━━━━━━━━━━━━━━╇━━━━━━━━━━━━━━━━━┩\n",
              "│ conv2d (<span style=\"color: #0087ff; text-decoration-color: #0087ff\">Conv2D</span>)                      │ (<span style=\"color: #00d7ff; text-decoration-color: #00d7ff\">None</span>, <span style=\"color: #00af00; text-decoration-color: #00af00\">30</span>, <span style=\"color: #00af00; text-decoration-color: #00af00\">30</span>, <span style=\"color: #00af00; text-decoration-color: #00af00\">32</span>)          │             <span style=\"color: #00af00; text-decoration-color: #00af00\">896</span> │\n",
              "├──────────────────────────────────────┼─────────────────────────────┼─────────────────┤\n",
              "│ max_pooling2d (<span style=\"color: #0087ff; text-decoration-color: #0087ff\">MaxPooling2D</span>)         │ (<span style=\"color: #00d7ff; text-decoration-color: #00d7ff\">None</span>, <span style=\"color: #00af00; text-decoration-color: #00af00\">15</span>, <span style=\"color: #00af00; text-decoration-color: #00af00\">15</span>, <span style=\"color: #00af00; text-decoration-color: #00af00\">32</span>)          │               <span style=\"color: #00af00; text-decoration-color: #00af00\">0</span> │\n",
              "├──────────────────────────────────────┼─────────────────────────────┼─────────────────┤\n",
              "│ conv2d_1 (<span style=\"color: #0087ff; text-decoration-color: #0087ff\">Conv2D</span>)                    │ (<span style=\"color: #00d7ff; text-decoration-color: #00d7ff\">None</span>, <span style=\"color: #00af00; text-decoration-color: #00af00\">13</span>, <span style=\"color: #00af00; text-decoration-color: #00af00\">13</span>, <span style=\"color: #00af00; text-decoration-color: #00af00\">64</span>)          │          <span style=\"color: #00af00; text-decoration-color: #00af00\">18,496</span> │\n",
              "├──────────────────────────────────────┼─────────────────────────────┼─────────────────┤\n",
              "│ max_pooling2d_1 (<span style=\"color: #0087ff; text-decoration-color: #0087ff\">MaxPooling2D</span>)       │ (<span style=\"color: #00d7ff; text-decoration-color: #00d7ff\">None</span>, <span style=\"color: #00af00; text-decoration-color: #00af00\">6</span>, <span style=\"color: #00af00; text-decoration-color: #00af00\">6</span>, <span style=\"color: #00af00; text-decoration-color: #00af00\">64</span>)            │               <span style=\"color: #00af00; text-decoration-color: #00af00\">0</span> │\n",
              "├──────────────────────────────────────┼─────────────────────────────┼─────────────────┤\n",
              "│ flatten_3 (<span style=\"color: #0087ff; text-decoration-color: #0087ff\">Flatten</span>)                  │ (<span style=\"color: #00d7ff; text-decoration-color: #00d7ff\">None</span>, <span style=\"color: #00af00; text-decoration-color: #00af00\">2304</span>)                │               <span style=\"color: #00af00; text-decoration-color: #00af00\">0</span> │\n",
              "├──────────────────────────────────────┼─────────────────────────────┼─────────────────┤\n",
              "│ dense_10 (<span style=\"color: #0087ff; text-decoration-color: #0087ff\">Dense</span>)                     │ (<span style=\"color: #00d7ff; text-decoration-color: #00d7ff\">None</span>, <span style=\"color: #00af00; text-decoration-color: #00af00\">128</span>)                 │         <span style=\"color: #00af00; text-decoration-color: #00af00\">295,040</span> │\n",
              "├──────────────────────────────────────┼─────────────────────────────┼─────────────────┤\n",
              "│ dense_11 (<span style=\"color: #0087ff; text-decoration-color: #0087ff\">Dense</span>)                     │ (<span style=\"color: #00d7ff; text-decoration-color: #00d7ff\">None</span>, <span style=\"color: #00af00; text-decoration-color: #00af00\">10</span>)                  │           <span style=\"color: #00af00; text-decoration-color: #00af00\">1,290</span> │\n",
              "└──────────────────────────────────────┴─────────────────────────────┴─────────────────┘\n",
              "</pre>\n"
            ]
          },
          "metadata": {}
        },
        {
          "output_type": "display_data",
          "data": {
            "text/plain": [
              "\u001b[1m Total params: \u001b[0m\u001b[38;5;34m315,722\u001b[0m (1.20 MB)\n"
            ],
            "text/html": [
              "<pre style=\"white-space:pre;overflow-x:auto;line-height:normal;font-family:Menlo,'DejaVu Sans Mono',consolas,'Courier New',monospace\"><span style=\"font-weight: bold\"> Total params: </span><span style=\"color: #00af00; text-decoration-color: #00af00\">315,722</span> (1.20 MB)\n",
              "</pre>\n"
            ]
          },
          "metadata": {}
        },
        {
          "output_type": "display_data",
          "data": {
            "text/plain": [
              "\u001b[1m Trainable params: \u001b[0m\u001b[38;5;34m315,722\u001b[0m (1.20 MB)\n"
            ],
            "text/html": [
              "<pre style=\"white-space:pre;overflow-x:auto;line-height:normal;font-family:Menlo,'DejaVu Sans Mono',consolas,'Courier New',monospace\"><span style=\"font-weight: bold\"> Trainable params: </span><span style=\"color: #00af00; text-decoration-color: #00af00\">315,722</span> (1.20 MB)\n",
              "</pre>\n"
            ]
          },
          "metadata": {}
        },
        {
          "output_type": "display_data",
          "data": {
            "text/plain": [
              "\u001b[1m Non-trainable params: \u001b[0m\u001b[38;5;34m0\u001b[0m (0.00 B)\n"
            ],
            "text/html": [
              "<pre style=\"white-space:pre;overflow-x:auto;line-height:normal;font-family:Menlo,'DejaVu Sans Mono',consolas,'Courier New',monospace\"><span style=\"font-weight: bold\"> Non-trainable params: </span><span style=\"color: #00af00; text-decoration-color: #00af00\">0</span> (0.00 B)\n",
              "</pre>\n"
            ]
          },
          "metadata": {}
        }
      ]
    },
    {
      "cell_type": "code",
      "source": [
        "CNNmodel.compile(optimizer='adam', loss='sparse_categorical_crossentropy',\n",
        "                 metrics=['accuracy'])"
      ],
      "metadata": {
        "id": "WAZ6rono02BG"
      },
      "execution_count": null,
      "outputs": []
    },
    {
      "cell_type": "code",
      "source": [
        "CNNhistory = CNNmodel.fit(x_train, y_train, epochs=10, validation_split = .1, batch_size = 64)"
      ],
      "metadata": {
        "colab": {
          "base_uri": "https://localhost:8080/"
        },
        "id": "0GOXqLOY046J",
        "outputId": "5433e9c7-3e19-4190-de6e-bb8228a267fe"
      },
      "execution_count": null,
      "outputs": [
        {
          "output_type": "stream",
          "name": "stdout",
          "text": [
            "Epoch 1/10\n",
            "\u001b[1m704/704\u001b[0m \u001b[32m━━━━━━━━━━━━━━━━━━━━\u001b[0m\u001b[37m\u001b[0m \u001b[1m9s\u001b[0m 8ms/step - accuracy: 0.3728 - loss: 1.7350 - val_accuracy: 0.5368 - val_loss: 1.2924\n",
            "Epoch 2/10\n",
            "\u001b[1m704/704\u001b[0m \u001b[32m━━━━━━━━━━━━━━━━━━━━\u001b[0m\u001b[37m\u001b[0m \u001b[1m5s\u001b[0m 4ms/step - accuracy: 0.5857 - loss: 1.1792 - val_accuracy: 0.6372 - val_loss: 1.0488\n",
            "Epoch 3/10\n",
            "\u001b[1m704/704\u001b[0m \u001b[32m━━━━━━━━━━━━━━━━━━━━\u001b[0m\u001b[37m\u001b[0m \u001b[1m2s\u001b[0m 3ms/step - accuracy: 0.6450 - loss: 1.0167 - val_accuracy: 0.6630 - val_loss: 0.9675\n",
            "Epoch 4/10\n",
            "\u001b[1m704/704\u001b[0m \u001b[32m━━━━━━━━━━━━━━━━━━━━\u001b[0m\u001b[37m\u001b[0m \u001b[1m2s\u001b[0m 3ms/step - accuracy: 0.6836 - loss: 0.9039 - val_accuracy: 0.6788 - val_loss: 0.9444\n",
            "Epoch 5/10\n",
            "\u001b[1m704/704\u001b[0m \u001b[32m━━━━━━━━━━━━━━━━━━━━\u001b[0m\u001b[37m\u001b[0m \u001b[1m3s\u001b[0m 4ms/step - accuracy: 0.7085 - loss: 0.8315 - val_accuracy: 0.7014 - val_loss: 0.9029\n",
            "Epoch 6/10\n",
            "\u001b[1m704/704\u001b[0m \u001b[32m━━━━━━━━━━━━━━━━━━━━\u001b[0m\u001b[37m\u001b[0m \u001b[1m2s\u001b[0m 3ms/step - accuracy: 0.7355 - loss: 0.7629 - val_accuracy: 0.7046 - val_loss: 0.8767\n",
            "Epoch 7/10\n",
            "\u001b[1m704/704\u001b[0m \u001b[32m━━━━━━━━━━━━━━━━━━━━\u001b[0m\u001b[37m\u001b[0m \u001b[1m2s\u001b[0m 3ms/step - accuracy: 0.7562 - loss: 0.7021 - val_accuracy: 0.7200 - val_loss: 0.8522\n",
            "Epoch 8/10\n",
            "\u001b[1m704/704\u001b[0m \u001b[32m━━━━━━━━━━━━━━━━━━━━\u001b[0m\u001b[37m\u001b[0m \u001b[1m2s\u001b[0m 3ms/step - accuracy: 0.7787 - loss: 0.6368 - val_accuracy: 0.7164 - val_loss: 0.8537\n",
            "Epoch 9/10\n",
            "\u001b[1m704/704\u001b[0m \u001b[32m━━━━━━━━━━━━━━━━━━━━\u001b[0m\u001b[37m\u001b[0m \u001b[1m2s\u001b[0m 3ms/step - accuracy: 0.7994 - loss: 0.5802 - val_accuracy: 0.7214 - val_loss: 0.8666\n",
            "Epoch 10/10\n",
            "\u001b[1m704/704\u001b[0m \u001b[32m━━━━━━━━━━━━━━━━━━━━\u001b[0m\u001b[37m\u001b[0m \u001b[1m2s\u001b[0m 4ms/step - accuracy: 0.8169 - loss: 0.5316 - val_accuracy: 0.7132 - val_loss: 0.8987\n"
          ]
        }
      ]
    },
    {
      "cell_type": "code",
      "source": [
        "CNNmodel.evaluate(x_test, y_test, return_dict=True)"
      ],
      "metadata": {
        "colab": {
          "base_uri": "https://localhost:8080/"
        },
        "id": "pSZkg34D1GaF",
        "outputId": "3b9a8bef-4d60-4ffc-87e7-9998c8d3c58b"
      },
      "execution_count": null,
      "outputs": [
        {
          "output_type": "stream",
          "name": "stdout",
          "text": [
            "\u001b[1m313/313\u001b[0m \u001b[32m━━━━━━━━━━━━━━━━━━━━\u001b[0m\u001b[37m\u001b[0m \u001b[1m2s\u001b[0m 4ms/step - accuracy: 0.6945 - loss: 0.9514\n"
          ]
        },
        {
          "output_type": "execute_result",
          "data": {
            "text/plain": [
              "{'accuracy': 0.6952000260353088, 'loss': 0.9552889466285706}"
            ]
          },
          "metadata": {},
          "execution_count": 21
        }
      ]
    },
    {
      "cell_type": "markdown",
      "source": [
        "This was my first attempt at creating the CNN model. I found that the accuracy was much higher and the loss much lower than the MLP model. This ended up being my best CNN model."
      ],
      "metadata": {
        "id": "8HJnTCyarUoY"
      }
    },
    {
      "cell_type": "code",
      "source": [
        "def buildCNNModel(hp):\n",
        "    model = keras.models.Sequential()\n",
        "    model.add(keras.layers.Conv2D(filters=hp.Int('conv_filters_1', 32, 128, step=32),\n",
        "                                   kernel_size=(3, 3),\n",
        "                                   activation='relu',\n",
        "                                   input_shape=[32, 32, 3]))\n",
        "    model.add(keras.layers.MaxPooling2D(pool_size=(2, 2)))\n",
        "\n",
        "    for i in range(hp.Int('num_conv_layers', 1, 5)):\n",
        "        model.add(keras.layers.Conv2D(filters=hp.Int('conv_filters_' + str(i + 2), 32, 128, 32),\n",
        "                                       kernel_size=(3, 3),\n",
        "                                       activation='relu'))\n",
        "        model.add(keras.layers.MaxPooling2D(pool_size=(2, 2)))\n",
        "\n",
        "    model.add(keras.layers.Flatten())\n",
        "\n",
        "    for i in range(hp.Int('num_dense_layers', 1, 2)):\n",
        "        model.add(keras.layers.Dense(hp.Int('units_' + str(i), 50, 300), activation='relu'))\n",
        "\n",
        "    model.add(keras.layers.Dense(10, activation='softmax'))\n",
        "\n",
        "    model.compile(optimizer=keras.optimizers.Adam(\n",
        "            hp.Choice('learning_rate', [1e-2, 1e-3, 1e-4])),\n",
        "                  loss='sparse_categorical_crossentropy',\n",
        "                  metrics=['accuracy'])\n",
        "\n",
        "    return model\n",
        "\n",
        "tunerCNN = keras_tuner.RandomSearch(\n",
        "    buildCNNModel,\n",
        "    objective='val_loss',\n",
        "    #I changed the max trials to only 5 because I ran out of gpu runtime\n",
        "    max_trials=5\n",
        ")\n",
        "\n",
        "tunerCNN.search(x_train, y_train, epochs=10, validation_split=0.1)\n",
        "best_hps = tunerCNN.get_best_hyperparameters(num_trials=1)[0]\n",
        "best_hps.values\n"
      ],
      "metadata": {
        "colab": {
          "base_uri": "https://localhost:8080/"
        },
        "id": "7Qetsylbv3Wj",
        "outputId": "8faeb0f9-4182-4797-ac16-2c7eba1f267c"
      },
      "execution_count": null,
      "outputs": [
        {
          "output_type": "stream",
          "name": "stdout",
          "text": [
            "Trial 5 Complete [00h 13m 34s]\n",
            "val_loss: 0.907422661781311\n",
            "\n",
            "Best val_loss So Far: 0.907422661781311\n",
            "Total elapsed time: 00h 59m 19s\n"
          ]
        },
        {
          "output_type": "execute_result",
          "data": {
            "text/plain": [
              "{'conv_filters_1': 64,\n",
              " 'num_conv_layers': 2,\n",
              " 'conv_filters_2': 32,\n",
              " 'num_dense_layers': 5,\n",
              " 'units_0': 195,\n",
              " 'learning_rate': 0.001,\n",
              " 'conv_filters_3': 64,\n",
              " 'conv_filters_4': 128,\n",
              " 'units_1': 202,\n",
              " 'units_2': 250,\n",
              " 'units_3': 109,\n",
              " 'units_4': 114}"
            ]
          },
          "metadata": {},
          "execution_count": 7
        }
      ]
    },
    {
      "cell_type": "code",
      "source": [
        "improvedCNN  = buildCNNModel(best_hps)\n",
        "improvedCNN.summary()\n",
        "improvedCNN.compile(optimizer=keras.optimizers.Adam(0.001),\n",
        "                    loss='sparse_categorical_crossentropy',\n",
        "                 metrics=['accuracy'])\n",
        "improvedCNNhistory = improvedCNN.fit(x_train, y_train, epochs=10,\n",
        "                                     validation_split = .1, batch_size = 64)\n",
        "improvedCNN.evaluate(x_test, y_test, return_dict=True)"
      ],
      "metadata": {
        "colab": {
          "base_uri": "https://localhost:8080/",
          "height": 927
        },
        "id": "kgkD6_-uHep5",
        "outputId": "9f828740-4198-4db5-cc95-d14cca6d4597"
      },
      "execution_count": null,
      "outputs": [
        {
          "output_type": "display_data",
          "data": {
            "text/plain": [
              "\u001b[1mModel: \"sequential_2\"\u001b[0m\n"
            ],
            "text/html": [
              "<pre style=\"white-space:pre;overflow-x:auto;line-height:normal;font-family:Menlo,'DejaVu Sans Mono',consolas,'Courier New',monospace\"><span style=\"font-weight: bold\">Model: \"sequential_2\"</span>\n",
              "</pre>\n"
            ]
          },
          "metadata": {}
        },
        {
          "output_type": "display_data",
          "data": {
            "text/plain": [
              "┏━━━━━━━━━━━━━━━━━━━━━━━━━━━━━━━━━━━━━━┳━━━━━━━━━━━━━━━━━━━━━━━━━━━━━┳━━━━━━━━━━━━━━━━━┓\n",
              "┃\u001b[1m \u001b[0m\u001b[1mLayer (type)                        \u001b[0m\u001b[1m \u001b[0m┃\u001b[1m \u001b[0m\u001b[1mOutput Shape               \u001b[0m\u001b[1m \u001b[0m┃\u001b[1m \u001b[0m\u001b[1m        Param #\u001b[0m\u001b[1m \u001b[0m┃\n",
              "┡━━━━━━━━━━━━━━━━━━━━━━━━━━━━━━━━━━━━━━╇━━━━━━━━━━━━━━━━━━━━━━━━━━━━━╇━━━━━━━━━━━━━━━━━┩\n",
              "│ conv2d_6 (\u001b[38;5;33mConv2D\u001b[0m)                    │ (\u001b[38;5;45mNone\u001b[0m, \u001b[38;5;34m30\u001b[0m, \u001b[38;5;34m30\u001b[0m, \u001b[38;5;34m64\u001b[0m)          │           \u001b[38;5;34m1,792\u001b[0m │\n",
              "├──────────────────────────────────────┼─────────────────────────────┼─────────────────┤\n",
              "│ max_pooling2d_6 (\u001b[38;5;33mMaxPooling2D\u001b[0m)       │ (\u001b[38;5;45mNone\u001b[0m, \u001b[38;5;34m15\u001b[0m, \u001b[38;5;34m15\u001b[0m, \u001b[38;5;34m64\u001b[0m)          │               \u001b[38;5;34m0\u001b[0m │\n",
              "├──────────────────────────────────────┼─────────────────────────────┼─────────────────┤\n",
              "│ conv2d_7 (\u001b[38;5;33mConv2D\u001b[0m)                    │ (\u001b[38;5;45mNone\u001b[0m, \u001b[38;5;34m13\u001b[0m, \u001b[38;5;34m13\u001b[0m, \u001b[38;5;34m32\u001b[0m)          │          \u001b[38;5;34m18,464\u001b[0m │\n",
              "├──────────────────────────────────────┼─────────────────────────────┼─────────────────┤\n",
              "│ max_pooling2d_7 (\u001b[38;5;33mMaxPooling2D\u001b[0m)       │ (\u001b[38;5;45mNone\u001b[0m, \u001b[38;5;34m6\u001b[0m, \u001b[38;5;34m6\u001b[0m, \u001b[38;5;34m32\u001b[0m)            │               \u001b[38;5;34m0\u001b[0m │\n",
              "├──────────────────────────────────────┼─────────────────────────────┼─────────────────┤\n",
              "│ conv2d_8 (\u001b[38;5;33mConv2D\u001b[0m)                    │ (\u001b[38;5;45mNone\u001b[0m, \u001b[38;5;34m4\u001b[0m, \u001b[38;5;34m4\u001b[0m, \u001b[38;5;34m64\u001b[0m)            │          \u001b[38;5;34m18,496\u001b[0m │\n",
              "├──────────────────────────────────────┼─────────────────────────────┼─────────────────┤\n",
              "│ max_pooling2d_8 (\u001b[38;5;33mMaxPooling2D\u001b[0m)       │ (\u001b[38;5;45mNone\u001b[0m, \u001b[38;5;34m2\u001b[0m, \u001b[38;5;34m2\u001b[0m, \u001b[38;5;34m64\u001b[0m)            │               \u001b[38;5;34m0\u001b[0m │\n",
              "├──────────────────────────────────────┼─────────────────────────────┼─────────────────┤\n",
              "│ flatten_2 (\u001b[38;5;33mFlatten\u001b[0m)                  │ (\u001b[38;5;45mNone\u001b[0m, \u001b[38;5;34m256\u001b[0m)                 │               \u001b[38;5;34m0\u001b[0m │\n",
              "├──────────────────────────────────────┼─────────────────────────────┼─────────────────┤\n",
              "│ dense_12 (\u001b[38;5;33mDense\u001b[0m)                     │ (\u001b[38;5;45mNone\u001b[0m, \u001b[38;5;34m195\u001b[0m)                 │          \u001b[38;5;34m50,115\u001b[0m │\n",
              "├──────────────────────────────────────┼─────────────────────────────┼─────────────────┤\n",
              "│ dense_13 (\u001b[38;5;33mDense\u001b[0m)                     │ (\u001b[38;5;45mNone\u001b[0m, \u001b[38;5;34m202\u001b[0m)                 │          \u001b[38;5;34m39,592\u001b[0m │\n",
              "├──────────────────────────────────────┼─────────────────────────────┼─────────────────┤\n",
              "│ dense_14 (\u001b[38;5;33mDense\u001b[0m)                     │ (\u001b[38;5;45mNone\u001b[0m, \u001b[38;5;34m250\u001b[0m)                 │          \u001b[38;5;34m50,750\u001b[0m │\n",
              "├──────────────────────────────────────┼─────────────────────────────┼─────────────────┤\n",
              "│ dense_15 (\u001b[38;5;33mDense\u001b[0m)                     │ (\u001b[38;5;45mNone\u001b[0m, \u001b[38;5;34m109\u001b[0m)                 │          \u001b[38;5;34m27,359\u001b[0m │\n",
              "├──────────────────────────────────────┼─────────────────────────────┼─────────────────┤\n",
              "│ dense_16 (\u001b[38;5;33mDense\u001b[0m)                     │ (\u001b[38;5;45mNone\u001b[0m, \u001b[38;5;34m114\u001b[0m)                 │          \u001b[38;5;34m12,540\u001b[0m │\n",
              "├──────────────────────────────────────┼─────────────────────────────┼─────────────────┤\n",
              "│ dense_17 (\u001b[38;5;33mDense\u001b[0m)                     │ (\u001b[38;5;45mNone\u001b[0m, \u001b[38;5;34m10\u001b[0m)                  │           \u001b[38;5;34m1,150\u001b[0m │\n",
              "└──────────────────────────────────────┴─────────────────────────────┴─────────────────┘\n"
            ],
            "text/html": [
              "<pre style=\"white-space:pre;overflow-x:auto;line-height:normal;font-family:Menlo,'DejaVu Sans Mono',consolas,'Courier New',monospace\">┏━━━━━━━━━━━━━━━━━━━━━━━━━━━━━━━━━━━━━━┳━━━━━━━━━━━━━━━━━━━━━━━━━━━━━┳━━━━━━━━━━━━━━━━━┓\n",
              "┃<span style=\"font-weight: bold\"> Layer (type)                         </span>┃<span style=\"font-weight: bold\"> Output Shape                </span>┃<span style=\"font-weight: bold\">         Param # </span>┃\n",
              "┡━━━━━━━━━━━━━━━━━━━━━━━━━━━━━━━━━━━━━━╇━━━━━━━━━━━━━━━━━━━━━━━━━━━━━╇━━━━━━━━━━━━━━━━━┩\n",
              "│ conv2d_6 (<span style=\"color: #0087ff; text-decoration-color: #0087ff\">Conv2D</span>)                    │ (<span style=\"color: #00d7ff; text-decoration-color: #00d7ff\">None</span>, <span style=\"color: #00af00; text-decoration-color: #00af00\">30</span>, <span style=\"color: #00af00; text-decoration-color: #00af00\">30</span>, <span style=\"color: #00af00; text-decoration-color: #00af00\">64</span>)          │           <span style=\"color: #00af00; text-decoration-color: #00af00\">1,792</span> │\n",
              "├──────────────────────────────────────┼─────────────────────────────┼─────────────────┤\n",
              "│ max_pooling2d_6 (<span style=\"color: #0087ff; text-decoration-color: #0087ff\">MaxPooling2D</span>)       │ (<span style=\"color: #00d7ff; text-decoration-color: #00d7ff\">None</span>, <span style=\"color: #00af00; text-decoration-color: #00af00\">15</span>, <span style=\"color: #00af00; text-decoration-color: #00af00\">15</span>, <span style=\"color: #00af00; text-decoration-color: #00af00\">64</span>)          │               <span style=\"color: #00af00; text-decoration-color: #00af00\">0</span> │\n",
              "├──────────────────────────────────────┼─────────────────────────────┼─────────────────┤\n",
              "│ conv2d_7 (<span style=\"color: #0087ff; text-decoration-color: #0087ff\">Conv2D</span>)                    │ (<span style=\"color: #00d7ff; text-decoration-color: #00d7ff\">None</span>, <span style=\"color: #00af00; text-decoration-color: #00af00\">13</span>, <span style=\"color: #00af00; text-decoration-color: #00af00\">13</span>, <span style=\"color: #00af00; text-decoration-color: #00af00\">32</span>)          │          <span style=\"color: #00af00; text-decoration-color: #00af00\">18,464</span> │\n",
              "├──────────────────────────────────────┼─────────────────────────────┼─────────────────┤\n",
              "│ max_pooling2d_7 (<span style=\"color: #0087ff; text-decoration-color: #0087ff\">MaxPooling2D</span>)       │ (<span style=\"color: #00d7ff; text-decoration-color: #00d7ff\">None</span>, <span style=\"color: #00af00; text-decoration-color: #00af00\">6</span>, <span style=\"color: #00af00; text-decoration-color: #00af00\">6</span>, <span style=\"color: #00af00; text-decoration-color: #00af00\">32</span>)            │               <span style=\"color: #00af00; text-decoration-color: #00af00\">0</span> │\n",
              "├──────────────────────────────────────┼─────────────────────────────┼─────────────────┤\n",
              "│ conv2d_8 (<span style=\"color: #0087ff; text-decoration-color: #0087ff\">Conv2D</span>)                    │ (<span style=\"color: #00d7ff; text-decoration-color: #00d7ff\">None</span>, <span style=\"color: #00af00; text-decoration-color: #00af00\">4</span>, <span style=\"color: #00af00; text-decoration-color: #00af00\">4</span>, <span style=\"color: #00af00; text-decoration-color: #00af00\">64</span>)            │          <span style=\"color: #00af00; text-decoration-color: #00af00\">18,496</span> │\n",
              "├──────────────────────────────────────┼─────────────────────────────┼─────────────────┤\n",
              "│ max_pooling2d_8 (<span style=\"color: #0087ff; text-decoration-color: #0087ff\">MaxPooling2D</span>)       │ (<span style=\"color: #00d7ff; text-decoration-color: #00d7ff\">None</span>, <span style=\"color: #00af00; text-decoration-color: #00af00\">2</span>, <span style=\"color: #00af00; text-decoration-color: #00af00\">2</span>, <span style=\"color: #00af00; text-decoration-color: #00af00\">64</span>)            │               <span style=\"color: #00af00; text-decoration-color: #00af00\">0</span> │\n",
              "├──────────────────────────────────────┼─────────────────────────────┼─────────────────┤\n",
              "│ flatten_2 (<span style=\"color: #0087ff; text-decoration-color: #0087ff\">Flatten</span>)                  │ (<span style=\"color: #00d7ff; text-decoration-color: #00d7ff\">None</span>, <span style=\"color: #00af00; text-decoration-color: #00af00\">256</span>)                 │               <span style=\"color: #00af00; text-decoration-color: #00af00\">0</span> │\n",
              "├──────────────────────────────────────┼─────────────────────────────┼─────────────────┤\n",
              "│ dense_12 (<span style=\"color: #0087ff; text-decoration-color: #0087ff\">Dense</span>)                     │ (<span style=\"color: #00d7ff; text-decoration-color: #00d7ff\">None</span>, <span style=\"color: #00af00; text-decoration-color: #00af00\">195</span>)                 │          <span style=\"color: #00af00; text-decoration-color: #00af00\">50,115</span> │\n",
              "├──────────────────────────────────────┼─────────────────────────────┼─────────────────┤\n",
              "│ dense_13 (<span style=\"color: #0087ff; text-decoration-color: #0087ff\">Dense</span>)                     │ (<span style=\"color: #00d7ff; text-decoration-color: #00d7ff\">None</span>, <span style=\"color: #00af00; text-decoration-color: #00af00\">202</span>)                 │          <span style=\"color: #00af00; text-decoration-color: #00af00\">39,592</span> │\n",
              "├──────────────────────────────────────┼─────────────────────────────┼─────────────────┤\n",
              "│ dense_14 (<span style=\"color: #0087ff; text-decoration-color: #0087ff\">Dense</span>)                     │ (<span style=\"color: #00d7ff; text-decoration-color: #00d7ff\">None</span>, <span style=\"color: #00af00; text-decoration-color: #00af00\">250</span>)                 │          <span style=\"color: #00af00; text-decoration-color: #00af00\">50,750</span> │\n",
              "├──────────────────────────────────────┼─────────────────────────────┼─────────────────┤\n",
              "│ dense_15 (<span style=\"color: #0087ff; text-decoration-color: #0087ff\">Dense</span>)                     │ (<span style=\"color: #00d7ff; text-decoration-color: #00d7ff\">None</span>, <span style=\"color: #00af00; text-decoration-color: #00af00\">109</span>)                 │          <span style=\"color: #00af00; text-decoration-color: #00af00\">27,359</span> │\n",
              "├──────────────────────────────────────┼─────────────────────────────┼─────────────────┤\n",
              "│ dense_16 (<span style=\"color: #0087ff; text-decoration-color: #0087ff\">Dense</span>)                     │ (<span style=\"color: #00d7ff; text-decoration-color: #00d7ff\">None</span>, <span style=\"color: #00af00; text-decoration-color: #00af00\">114</span>)                 │          <span style=\"color: #00af00; text-decoration-color: #00af00\">12,540</span> │\n",
              "├──────────────────────────────────────┼─────────────────────────────┼─────────────────┤\n",
              "│ dense_17 (<span style=\"color: #0087ff; text-decoration-color: #0087ff\">Dense</span>)                     │ (<span style=\"color: #00d7ff; text-decoration-color: #00d7ff\">None</span>, <span style=\"color: #00af00; text-decoration-color: #00af00\">10</span>)                  │           <span style=\"color: #00af00; text-decoration-color: #00af00\">1,150</span> │\n",
              "└──────────────────────────────────────┴─────────────────────────────┴─────────────────┘\n",
              "</pre>\n"
            ]
          },
          "metadata": {}
        },
        {
          "output_type": "display_data",
          "data": {
            "text/plain": [
              "\u001b[1m Total params: \u001b[0m\u001b[38;5;34m220,258\u001b[0m (860.38 KB)\n"
            ],
            "text/html": [
              "<pre style=\"white-space:pre;overflow-x:auto;line-height:normal;font-family:Menlo,'DejaVu Sans Mono',consolas,'Courier New',monospace\"><span style=\"font-weight: bold\"> Total params: </span><span style=\"color: #00af00; text-decoration-color: #00af00\">220,258</span> (860.38 KB)\n",
              "</pre>\n"
            ]
          },
          "metadata": {}
        },
        {
          "output_type": "display_data",
          "data": {
            "text/plain": [
              "\u001b[1m Trainable params: \u001b[0m\u001b[38;5;34m220,258\u001b[0m (860.38 KB)\n"
            ],
            "text/html": [
              "<pre style=\"white-space:pre;overflow-x:auto;line-height:normal;font-family:Menlo,'DejaVu Sans Mono',consolas,'Courier New',monospace\"><span style=\"font-weight: bold\"> Trainable params: </span><span style=\"color: #00af00; text-decoration-color: #00af00\">220,258</span> (860.38 KB)\n",
              "</pre>\n"
            ]
          },
          "metadata": {}
        },
        {
          "output_type": "display_data",
          "data": {
            "text/plain": [
              "\u001b[1m Non-trainable params: \u001b[0m\u001b[38;5;34m0\u001b[0m (0.00 B)\n"
            ],
            "text/html": [
              "<pre style=\"white-space:pre;overflow-x:auto;line-height:normal;font-family:Menlo,'DejaVu Sans Mono',consolas,'Courier New',monospace\"><span style=\"font-weight: bold\"> Non-trainable params: </span><span style=\"color: #00af00; text-decoration-color: #00af00\">0</span> (0.00 B)\n",
              "</pre>\n"
            ]
          },
          "metadata": {}
        },
        {
          "output_type": "stream",
          "name": "stdout",
          "text": [
            "Epoch 1/10\n",
            "\u001b[1m704/704\u001b[0m \u001b[32m━━━━━━━━━━━━━━━━━━━━\u001b[0m\u001b[37m\u001b[0m \u001b[1m81s\u001b[0m 110ms/step - accuracy: 0.2544 - loss: 1.9461 - val_accuracy: 0.4840 - val_loss: 1.3991\n",
            "Epoch 2/10\n",
            "\u001b[1m704/704\u001b[0m \u001b[32m━━━━━━━━━━━━━━━━━━━━\u001b[0m\u001b[37m\u001b[0m \u001b[1m77s\u001b[0m 109ms/step - accuracy: 0.5004 - loss: 1.3678 - val_accuracy: 0.5518 - val_loss: 1.2451\n",
            "Epoch 3/10\n",
            "\u001b[1m704/704\u001b[0m \u001b[32m━━━━━━━━━━━━━━━━━━━━\u001b[0m\u001b[37m\u001b[0m \u001b[1m79s\u001b[0m 105ms/step - accuracy: 0.5707 - loss: 1.1947 - val_accuracy: 0.5986 - val_loss: 1.1510\n",
            "Epoch 4/10\n",
            "\u001b[1m704/704\u001b[0m \u001b[32m━━━━━━━━━━━━━━━━━━━━\u001b[0m\u001b[37m\u001b[0m \u001b[1m82s\u001b[0m 105ms/step - accuracy: 0.6112 - loss: 1.0903 - val_accuracy: 0.6374 - val_loss: 1.0213\n",
            "Epoch 5/10\n",
            "\u001b[1m704/704\u001b[0m \u001b[32m━━━━━━━━━━━━━━━━━━━━\u001b[0m\u001b[37m\u001b[0m \u001b[1m82s\u001b[0m 104ms/step - accuracy: 0.6463 - loss: 0.9991 - val_accuracy: 0.6318 - val_loss: 1.0740\n",
            "Epoch 6/10\n",
            "\u001b[1m704/704\u001b[0m \u001b[32m━━━━━━━━━━━━━━━━━━━━\u001b[0m\u001b[37m\u001b[0m \u001b[1m84s\u001b[0m 107ms/step - accuracy: 0.6691 - loss: 0.9243 - val_accuracy: 0.6638 - val_loss: 0.9880\n",
            "Epoch 7/10\n",
            "\u001b[1m704/704\u001b[0m \u001b[32m━━━━━━━━━━━━━━━━━━━━\u001b[0m\u001b[37m\u001b[0m \u001b[1m82s\u001b[0m 107ms/step - accuracy: 0.6971 - loss: 0.8571 - val_accuracy: 0.6650 - val_loss: 0.9557\n",
            "Epoch 8/10\n",
            "\u001b[1m704/704\u001b[0m \u001b[32m━━━━━━━━━━━━━━━━━━━━\u001b[0m\u001b[37m\u001b[0m \u001b[1m81s\u001b[0m 105ms/step - accuracy: 0.7114 - loss: 0.8179 - val_accuracy: 0.6820 - val_loss: 0.9172\n",
            "Epoch 9/10\n",
            "\u001b[1m704/704\u001b[0m \u001b[32m━━━━━━━━━━━━━━━━━━━━\u001b[0m\u001b[37m\u001b[0m \u001b[1m83s\u001b[0m 106ms/step - accuracy: 0.7350 - loss: 0.7572 - val_accuracy: 0.6924 - val_loss: 0.9141\n",
            "Epoch 10/10\n",
            "\u001b[1m704/704\u001b[0m \u001b[32m━━━━━━━━━━━━━━━━━━━━\u001b[0m\u001b[37m\u001b[0m \u001b[1m74s\u001b[0m 105ms/step - accuracy: 0.7466 - loss: 0.7230 - val_accuracy: 0.6928 - val_loss: 0.9244\n",
            "\u001b[1m313/313\u001b[0m \u001b[32m━━━━━━━━━━━━━━━━━━━━\u001b[0m\u001b[37m\u001b[0m \u001b[1m4s\u001b[0m 14ms/step - accuracy: 0.6736 - loss: 0.9544\n"
          ]
        },
        {
          "output_type": "execute_result",
          "data": {
            "text/plain": [
              "{'accuracy': 0.6751000285148621, 'loss': 0.9554824233055115}"
            ]
          },
          "metadata": {},
          "execution_count": 9
        }
      ]
    },
    {
      "cell_type": "markdown",
      "source": [
        "The results from attempting to use the keras tuner on the CNN model did not produce better results than the first model I built. However the accuracy of that first model was much better than the MLP model."
      ],
      "metadata": {
        "id": "KHCk76--vvCF"
      }
    },
    {
      "cell_type": "code",
      "source": [
        "CNNmodelManualHP = keras.models.Sequential()\n",
        "CNNmodelManualHP.add(keras.layers.Conv2D(32, (3,3), activation='relu', input_shape=(32,32,3)))\n",
        "CNNmodelManualHP.add(keras.layers.MaxPooling2D((2,2)))\n",
        "CNNmodelManualHP.add(keras.layers.Conv2D(64, (3,3), activation='relu'))\n",
        "CNNmodelManualHP.add(keras.layers.MaxPooling2D((2,2)))\n",
        "CNNmodelManualHP.add(keras.layers.Flatten())\n",
        "CNNmodelManualHP.add(keras.layers.Dense(128, activation='relu'))\n",
        "CNNmodelManualHP.add(keras.layers.Dropout(0.5))\n",
        "CNNmodelManualHP.add(keras.layers.Dense(64, activation='relu'))\n",
        "CNNmodelManualHP.add(keras.layers.Dropout(0.5))\n",
        "CNNmodelManualHP.add(keras.layers.Dense(32, activation='relu'))\n",
        "CNNmodelManualHP.add(keras.layers.Dropout(0.5))\n",
        "CNNmodelManualHP.add(keras.layers.Dense(10, activation='softmax'))\n",
        "CNNmodelManualHP.summary()"
      ],
      "metadata": {
        "colab": {
          "base_uri": "https://localhost:8080/",
          "height": 544
        },
        "id": "2UQFYC4qzEoT",
        "outputId": "b3d1d958-f262-4538-efc8-1beba6aa52ff"
      },
      "execution_count": null,
      "outputs": [
        {
          "output_type": "display_data",
          "data": {
            "text/plain": [
              "\u001b[1mModel: \"sequential_3\"\u001b[0m\n"
            ],
            "text/html": [
              "<pre style=\"white-space:pre;overflow-x:auto;line-height:normal;font-family:Menlo,'DejaVu Sans Mono',consolas,'Courier New',monospace\"><span style=\"font-weight: bold\">Model: \"sequential_3\"</span>\n",
              "</pre>\n"
            ]
          },
          "metadata": {}
        },
        {
          "output_type": "display_data",
          "data": {
            "text/plain": [
              "┏━━━━━━━━━━━━━━━━━━━━━━━━━━━━━━━━━━━━━━┳━━━━━━━━━━━━━━━━━━━━━━━━━━━━━┳━━━━━━━━━━━━━━━━━┓\n",
              "┃\u001b[1m \u001b[0m\u001b[1mLayer (type)                        \u001b[0m\u001b[1m \u001b[0m┃\u001b[1m \u001b[0m\u001b[1mOutput Shape               \u001b[0m\u001b[1m \u001b[0m┃\u001b[1m \u001b[0m\u001b[1m        Param #\u001b[0m\u001b[1m \u001b[0m┃\n",
              "┡━━━━━━━━━━━━━━━━━━━━━━━━━━━━━━━━━━━━━━╇━━━━━━━━━━━━━━━━━━━━━━━━━━━━━╇━━━━━━━━━━━━━━━━━┩\n",
              "│ conv2d_6 (\u001b[38;5;33mConv2D\u001b[0m)                    │ (\u001b[38;5;45mNone\u001b[0m, \u001b[38;5;34m30\u001b[0m, \u001b[38;5;34m30\u001b[0m, \u001b[38;5;34m32\u001b[0m)          │             \u001b[38;5;34m896\u001b[0m │\n",
              "├──────────────────────────────────────┼─────────────────────────────┼─────────────────┤\n",
              "│ max_pooling2d_6 (\u001b[38;5;33mMaxPooling2D\u001b[0m)       │ (\u001b[38;5;45mNone\u001b[0m, \u001b[38;5;34m15\u001b[0m, \u001b[38;5;34m15\u001b[0m, \u001b[38;5;34m32\u001b[0m)          │               \u001b[38;5;34m0\u001b[0m │\n",
              "├──────────────────────────────────────┼─────────────────────────────┼─────────────────┤\n",
              "│ conv2d_7 (\u001b[38;5;33mConv2D\u001b[0m)                    │ (\u001b[38;5;45mNone\u001b[0m, \u001b[38;5;34m13\u001b[0m, \u001b[38;5;34m13\u001b[0m, \u001b[38;5;34m64\u001b[0m)          │          \u001b[38;5;34m18,496\u001b[0m │\n",
              "├──────────────────────────────────────┼─────────────────────────────┼─────────────────┤\n",
              "│ max_pooling2d_7 (\u001b[38;5;33mMaxPooling2D\u001b[0m)       │ (\u001b[38;5;45mNone\u001b[0m, \u001b[38;5;34m6\u001b[0m, \u001b[38;5;34m6\u001b[0m, \u001b[38;5;34m64\u001b[0m)            │               \u001b[38;5;34m0\u001b[0m │\n",
              "├──────────────────────────────────────┼─────────────────────────────┼─────────────────┤\n",
              "│ flatten_3 (\u001b[38;5;33mFlatten\u001b[0m)                  │ (\u001b[38;5;45mNone\u001b[0m, \u001b[38;5;34m2304\u001b[0m)                │               \u001b[38;5;34m0\u001b[0m │\n",
              "├──────────────────────────────────────┼─────────────────────────────┼─────────────────┤\n",
              "│ dense_14 (\u001b[38;5;33mDense\u001b[0m)                     │ (\u001b[38;5;45mNone\u001b[0m, \u001b[38;5;34m128\u001b[0m)                 │         \u001b[38;5;34m295,040\u001b[0m │\n",
              "├──────────────────────────────────────┼─────────────────────────────┼─────────────────┤\n",
              "│ dropout_10 (\u001b[38;5;33mDropout\u001b[0m)                 │ (\u001b[38;5;45mNone\u001b[0m, \u001b[38;5;34m128\u001b[0m)                 │               \u001b[38;5;34m0\u001b[0m │\n",
              "├──────────────────────────────────────┼─────────────────────────────┼─────────────────┤\n",
              "│ dense_15 (\u001b[38;5;33mDense\u001b[0m)                     │ (\u001b[38;5;45mNone\u001b[0m, \u001b[38;5;34m64\u001b[0m)                  │           \u001b[38;5;34m8,256\u001b[0m │\n",
              "├──────────────────────────────────────┼─────────────────────────────┼─────────────────┤\n",
              "│ dropout_11 (\u001b[38;5;33mDropout\u001b[0m)                 │ (\u001b[38;5;45mNone\u001b[0m, \u001b[38;5;34m64\u001b[0m)                  │               \u001b[38;5;34m0\u001b[0m │\n",
              "├──────────────────────────────────────┼─────────────────────────────┼─────────────────┤\n",
              "│ dense_16 (\u001b[38;5;33mDense\u001b[0m)                     │ (\u001b[38;5;45mNone\u001b[0m, \u001b[38;5;34m32\u001b[0m)                  │           \u001b[38;5;34m2,080\u001b[0m │\n",
              "├──────────────────────────────────────┼─────────────────────────────┼─────────────────┤\n",
              "│ dropout_12 (\u001b[38;5;33mDropout\u001b[0m)                 │ (\u001b[38;5;45mNone\u001b[0m, \u001b[38;5;34m32\u001b[0m)                  │               \u001b[38;5;34m0\u001b[0m │\n",
              "├──────────────────────────────────────┼─────────────────────────────┼─────────────────┤\n",
              "│ dense_17 (\u001b[38;5;33mDense\u001b[0m)                     │ (\u001b[38;5;45mNone\u001b[0m, \u001b[38;5;34m10\u001b[0m)                  │             \u001b[38;5;34m330\u001b[0m │\n",
              "└──────────────────────────────────────┴─────────────────────────────┴─────────────────┘\n"
            ],
            "text/html": [
              "<pre style=\"white-space:pre;overflow-x:auto;line-height:normal;font-family:Menlo,'DejaVu Sans Mono',consolas,'Courier New',monospace\">┏━━━━━━━━━━━━━━━━━━━━━━━━━━━━━━━━━━━━━━┳━━━━━━━━━━━━━━━━━━━━━━━━━━━━━┳━━━━━━━━━━━━━━━━━┓\n",
              "┃<span style=\"font-weight: bold\"> Layer (type)                         </span>┃<span style=\"font-weight: bold\"> Output Shape                </span>┃<span style=\"font-weight: bold\">         Param # </span>┃\n",
              "┡━━━━━━━━━━━━━━━━━━━━━━━━━━━━━━━━━━━━━━╇━━━━━━━━━━━━━━━━━━━━━━━━━━━━━╇━━━━━━━━━━━━━━━━━┩\n",
              "│ conv2d_6 (<span style=\"color: #0087ff; text-decoration-color: #0087ff\">Conv2D</span>)                    │ (<span style=\"color: #00d7ff; text-decoration-color: #00d7ff\">None</span>, <span style=\"color: #00af00; text-decoration-color: #00af00\">30</span>, <span style=\"color: #00af00; text-decoration-color: #00af00\">30</span>, <span style=\"color: #00af00; text-decoration-color: #00af00\">32</span>)          │             <span style=\"color: #00af00; text-decoration-color: #00af00\">896</span> │\n",
              "├──────────────────────────────────────┼─────────────────────────────┼─────────────────┤\n",
              "│ max_pooling2d_6 (<span style=\"color: #0087ff; text-decoration-color: #0087ff\">MaxPooling2D</span>)       │ (<span style=\"color: #00d7ff; text-decoration-color: #00d7ff\">None</span>, <span style=\"color: #00af00; text-decoration-color: #00af00\">15</span>, <span style=\"color: #00af00; text-decoration-color: #00af00\">15</span>, <span style=\"color: #00af00; text-decoration-color: #00af00\">32</span>)          │               <span style=\"color: #00af00; text-decoration-color: #00af00\">0</span> │\n",
              "├──────────────────────────────────────┼─────────────────────────────┼─────────────────┤\n",
              "│ conv2d_7 (<span style=\"color: #0087ff; text-decoration-color: #0087ff\">Conv2D</span>)                    │ (<span style=\"color: #00d7ff; text-decoration-color: #00d7ff\">None</span>, <span style=\"color: #00af00; text-decoration-color: #00af00\">13</span>, <span style=\"color: #00af00; text-decoration-color: #00af00\">13</span>, <span style=\"color: #00af00; text-decoration-color: #00af00\">64</span>)          │          <span style=\"color: #00af00; text-decoration-color: #00af00\">18,496</span> │\n",
              "├──────────────────────────────────────┼─────────────────────────────┼─────────────────┤\n",
              "│ max_pooling2d_7 (<span style=\"color: #0087ff; text-decoration-color: #0087ff\">MaxPooling2D</span>)       │ (<span style=\"color: #00d7ff; text-decoration-color: #00d7ff\">None</span>, <span style=\"color: #00af00; text-decoration-color: #00af00\">6</span>, <span style=\"color: #00af00; text-decoration-color: #00af00\">6</span>, <span style=\"color: #00af00; text-decoration-color: #00af00\">64</span>)            │               <span style=\"color: #00af00; text-decoration-color: #00af00\">0</span> │\n",
              "├──────────────────────────────────────┼─────────────────────────────┼─────────────────┤\n",
              "│ flatten_3 (<span style=\"color: #0087ff; text-decoration-color: #0087ff\">Flatten</span>)                  │ (<span style=\"color: #00d7ff; text-decoration-color: #00d7ff\">None</span>, <span style=\"color: #00af00; text-decoration-color: #00af00\">2304</span>)                │               <span style=\"color: #00af00; text-decoration-color: #00af00\">0</span> │\n",
              "├──────────────────────────────────────┼─────────────────────────────┼─────────────────┤\n",
              "│ dense_14 (<span style=\"color: #0087ff; text-decoration-color: #0087ff\">Dense</span>)                     │ (<span style=\"color: #00d7ff; text-decoration-color: #00d7ff\">None</span>, <span style=\"color: #00af00; text-decoration-color: #00af00\">128</span>)                 │         <span style=\"color: #00af00; text-decoration-color: #00af00\">295,040</span> │\n",
              "├──────────────────────────────────────┼─────────────────────────────┼─────────────────┤\n",
              "│ dropout_10 (<span style=\"color: #0087ff; text-decoration-color: #0087ff\">Dropout</span>)                 │ (<span style=\"color: #00d7ff; text-decoration-color: #00d7ff\">None</span>, <span style=\"color: #00af00; text-decoration-color: #00af00\">128</span>)                 │               <span style=\"color: #00af00; text-decoration-color: #00af00\">0</span> │\n",
              "├──────────────────────────────────────┼─────────────────────────────┼─────────────────┤\n",
              "│ dense_15 (<span style=\"color: #0087ff; text-decoration-color: #0087ff\">Dense</span>)                     │ (<span style=\"color: #00d7ff; text-decoration-color: #00d7ff\">None</span>, <span style=\"color: #00af00; text-decoration-color: #00af00\">64</span>)                  │           <span style=\"color: #00af00; text-decoration-color: #00af00\">8,256</span> │\n",
              "├──────────────────────────────────────┼─────────────────────────────┼─────────────────┤\n",
              "│ dropout_11 (<span style=\"color: #0087ff; text-decoration-color: #0087ff\">Dropout</span>)                 │ (<span style=\"color: #00d7ff; text-decoration-color: #00d7ff\">None</span>, <span style=\"color: #00af00; text-decoration-color: #00af00\">64</span>)                  │               <span style=\"color: #00af00; text-decoration-color: #00af00\">0</span> │\n",
              "├──────────────────────────────────────┼─────────────────────────────┼─────────────────┤\n",
              "│ dense_16 (<span style=\"color: #0087ff; text-decoration-color: #0087ff\">Dense</span>)                     │ (<span style=\"color: #00d7ff; text-decoration-color: #00d7ff\">None</span>, <span style=\"color: #00af00; text-decoration-color: #00af00\">32</span>)                  │           <span style=\"color: #00af00; text-decoration-color: #00af00\">2,080</span> │\n",
              "├──────────────────────────────────────┼─────────────────────────────┼─────────────────┤\n",
              "│ dropout_12 (<span style=\"color: #0087ff; text-decoration-color: #0087ff\">Dropout</span>)                 │ (<span style=\"color: #00d7ff; text-decoration-color: #00d7ff\">None</span>, <span style=\"color: #00af00; text-decoration-color: #00af00\">32</span>)                  │               <span style=\"color: #00af00; text-decoration-color: #00af00\">0</span> │\n",
              "├──────────────────────────────────────┼─────────────────────────────┼─────────────────┤\n",
              "│ dense_17 (<span style=\"color: #0087ff; text-decoration-color: #0087ff\">Dense</span>)                     │ (<span style=\"color: #00d7ff; text-decoration-color: #00d7ff\">None</span>, <span style=\"color: #00af00; text-decoration-color: #00af00\">10</span>)                  │             <span style=\"color: #00af00; text-decoration-color: #00af00\">330</span> │\n",
              "└──────────────────────────────────────┴─────────────────────────────┴─────────────────┘\n",
              "</pre>\n"
            ]
          },
          "metadata": {}
        },
        {
          "output_type": "display_data",
          "data": {
            "text/plain": [
              "\u001b[1m Total params: \u001b[0m\u001b[38;5;34m325,098\u001b[0m (1.24 MB)\n"
            ],
            "text/html": [
              "<pre style=\"white-space:pre;overflow-x:auto;line-height:normal;font-family:Menlo,'DejaVu Sans Mono',consolas,'Courier New',monospace\"><span style=\"font-weight: bold\"> Total params: </span><span style=\"color: #00af00; text-decoration-color: #00af00\">325,098</span> (1.24 MB)\n",
              "</pre>\n"
            ]
          },
          "metadata": {}
        },
        {
          "output_type": "display_data",
          "data": {
            "text/plain": [
              "\u001b[1m Trainable params: \u001b[0m\u001b[38;5;34m325,098\u001b[0m (1.24 MB)\n"
            ],
            "text/html": [
              "<pre style=\"white-space:pre;overflow-x:auto;line-height:normal;font-family:Menlo,'DejaVu Sans Mono',consolas,'Courier New',monospace\"><span style=\"font-weight: bold\"> Trainable params: </span><span style=\"color: #00af00; text-decoration-color: #00af00\">325,098</span> (1.24 MB)\n",
              "</pre>\n"
            ]
          },
          "metadata": {}
        },
        {
          "output_type": "display_data",
          "data": {
            "text/plain": [
              "\u001b[1m Non-trainable params: \u001b[0m\u001b[38;5;34m0\u001b[0m (0.00 B)\n"
            ],
            "text/html": [
              "<pre style=\"white-space:pre;overflow-x:auto;line-height:normal;font-family:Menlo,'DejaVu Sans Mono',consolas,'Courier New',monospace\"><span style=\"font-weight: bold\"> Non-trainable params: </span><span style=\"color: #00af00; text-decoration-color: #00af00\">0</span> (0.00 B)\n",
              "</pre>\n"
            ]
          },
          "metadata": {}
        }
      ]
    },
    {
      "cell_type": "code",
      "source": [
        "CNNmodelManualHP.compile(optimizer='adam', loss='sparse_categorical_crossentropy',\n",
        "                 metrics=['accuracy'])\n",
        "CNNmodelManualHPhistory = CNNmodelManualHP.fit(x_train, y_train, epochs=10, validation_split = .1, batch_size = 64)\n",
        "CNNmodelManualHP.evaluate(x_test, y_test, return_dict=True)"
      ],
      "metadata": {
        "colab": {
          "base_uri": "https://localhost:8080/"
        },
        "id": "MAKPjqOtaWIn",
        "outputId": "43d8e320-96e5-41a6-e8f3-d7ef6c05efcf"
      },
      "execution_count": null,
      "outputs": [
        {
          "output_type": "stream",
          "name": "stdout",
          "text": [
            "Epoch 1/10\n",
            "\u001b[1m704/704\u001b[0m \u001b[32m━━━━━━━━━━━━━━━━━━━━\u001b[0m\u001b[37m\u001b[0m \u001b[1m64s\u001b[0m 88ms/step - accuracy: 0.1549 - loss: 2.1864 - val_accuracy: 0.3568 - val_loss: 1.6960\n",
            "Epoch 2/10\n",
            "\u001b[1m704/704\u001b[0m \u001b[32m━━━━━━━━━━━━━━━━━━━━\u001b[0m\u001b[37m\u001b[0m \u001b[1m78s\u001b[0m 83ms/step - accuracy: 0.2956 - loss: 1.7931 - val_accuracy: 0.4438 - val_loss: 1.5065\n",
            "Epoch 3/10\n",
            "\u001b[1m704/704\u001b[0m \u001b[32m━━━━━━━━━━━━━━━━━━━━\u001b[0m\u001b[37m\u001b[0m \u001b[1m82s\u001b[0m 83ms/step - accuracy: 0.3706 - loss: 1.6575 - val_accuracy: 0.4912 - val_loss: 1.4083\n",
            "Epoch 4/10\n",
            "\u001b[1m704/704\u001b[0m \u001b[32m━━━━━━━━━━━━━━━━━━━━\u001b[0m\u001b[37m\u001b[0m \u001b[1m82s\u001b[0m 83ms/step - accuracy: 0.4350 - loss: 1.5269 - val_accuracy: 0.5486 - val_loss: 1.2605\n",
            "Epoch 5/10\n",
            "\u001b[1m704/704\u001b[0m \u001b[32m━━━━━━━━━━━━━━━━━━━━\u001b[0m\u001b[37m\u001b[0m \u001b[1m59s\u001b[0m 84ms/step - accuracy: 0.4774 - loss: 1.4423 - val_accuracy: 0.5826 - val_loss: 1.2096\n",
            "Epoch 6/10\n",
            "\u001b[1m704/704\u001b[0m \u001b[32m━━━━━━━━━━━━━━━━━━━━\u001b[0m\u001b[37m\u001b[0m \u001b[1m83s\u001b[0m 86ms/step - accuracy: 0.5114 - loss: 1.3822 - val_accuracy: 0.5940 - val_loss: 1.1659\n",
            "Epoch 7/10\n",
            "\u001b[1m704/704\u001b[0m \u001b[32m━━━━━━━━━━━━━━━━━━━━\u001b[0m\u001b[37m\u001b[0m \u001b[1m79s\u001b[0m 82ms/step - accuracy: 0.5319 - loss: 1.3314 - val_accuracy: 0.6136 - val_loss: 1.1409\n",
            "Epoch 8/10\n",
            "\u001b[1m704/704\u001b[0m \u001b[32m━━━━━━━━━━━━━━━━━━━━\u001b[0m\u001b[37m\u001b[0m \u001b[1m82s\u001b[0m 83ms/step - accuracy: 0.5532 - loss: 1.2693 - val_accuracy: 0.6232 - val_loss: 1.0801\n",
            "Epoch 9/10\n",
            "\u001b[1m704/704\u001b[0m \u001b[32m━━━━━━━━━━━━━━━━━━━━\u001b[0m\u001b[37m\u001b[0m \u001b[1m59s\u001b[0m 83ms/step - accuracy: 0.5646 - loss: 1.2489 - val_accuracy: 0.6394 - val_loss: 1.0534\n",
            "Epoch 10/10\n",
            "\u001b[1m704/704\u001b[0m \u001b[32m━━━━━━━━━━━━━━━━━━━━\u001b[0m\u001b[37m\u001b[0m \u001b[1m81s\u001b[0m 81ms/step - accuracy: 0.5821 - loss: 1.2170 - val_accuracy: 0.6330 - val_loss: 1.0708\n",
            "\u001b[1m313/313\u001b[0m \u001b[32m━━━━━━━━━━━━━━━━━━━━\u001b[0m\u001b[37m\u001b[0m \u001b[1m4s\u001b[0m 12ms/step - accuracy: 0.6236 - loss: 1.1009\n"
          ]
        },
        {
          "output_type": "execute_result",
          "data": {
            "text/plain": [
              "{'accuracy': 0.6176999807357788, 'loss': 1.110916018486023}"
            ]
          },
          "metadata": {},
          "execution_count": 11
        }
      ]
    },
    {
      "cell_type": "markdown",
      "source": [
        "I added dropout layers, but they did not increase the accuracy at all."
      ],
      "metadata": {
        "id": "WhWdYN5IkoYD"
      }
    },
    {
      "cell_type": "markdown",
      "source": [
        "Overall, the CNN model outperformed the MLP model, but neither model performed all that well. I think with more time and more GPU space, I would change the hyperparameters. The models did not ever reach high accuracy in the history, stage however, when I tried to add more layers that did not improve the accuracy either. I think I would probably change the activation function."
      ],
      "metadata": {
        "id": "iGwGctAdk0LF"
      }
    },
    {
      "cell_type": "code",
      "source": [
        "\n",
        "\n",
        "model = keras.models.Sequential()\n",
        "model.add(keras.layers.Conv2D(\n",
        "    filters=32,\n",
        "    kernel_size=(3, 3),\n",
        "    activation='relu',\n",
        "    input_shape=(244, 244, 1)  # Grayscale, channels_last\n",
        "))\n",
        "\n",
        "# Add more layers\n",
        "model.add(keras.layers.MaxPooling2D(pool_size=(2, 2)))  # Downsample by 2\n",
        "model.add(keras.layers.Conv2D(filters=64, kernel_size=(3, 3), activation='relu'))\n",
        "model.add(keras.layers.MaxPooling2D(pool_size=(2, 2)))\n",
        "model.add(keras.layers.Conv2D(filters=128, kernel_size=(3, 3), activation='relu'))\n",
        "model.add(keras.layers.Flatten())  # Flatten into a 1D vector\n",
        "\n",
        "# Fully connected layers\n",
        "model.add(keras.layers.Dense(128, activation='relu'))  # Hidden dense layer\n",
        "model.add(keras.layers.Dense(1, activation='linear'))"
      ],
      "metadata": {
        "colab": {
          "base_uri": "https://localhost:8080/"
        },
        "id": "vDNCg5R-h-cj",
        "outputId": "a9b272c9-7abf-4cbb-8c3f-2475794828d7"
      },
      "execution_count": null,
      "outputs": [
        {
          "output_type": "stream",
          "name": "stderr",
          "text": [
            "/usr/local/lib/python3.10/dist-packages/keras/src/layers/convolutional/base_conv.py:107: UserWarning: Do not pass an `input_shape`/`input_dim` argument to a layer. When using Sequential models, prefer using an `Input(shape)` object as the first layer in the model instead.\n",
            "  super().__init__(activity_regularizer=activity_regularizer, **kwargs)\n"
          ]
        }
      ]
    }
  ]
}